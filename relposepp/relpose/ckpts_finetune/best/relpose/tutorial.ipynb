{
 "cells": [
  {
   "cell_type": "code",
   "execution_count": 1,
   "metadata": {},
   "outputs": [],
   "source": [
    "import torch\n",
    "import matplotlib\n",
    "import matplotlib.pyplot as plt\n",
    "import numpy as np\n",
    "import os\n",
    "import os.path as osp\n",
    "from PIL import Image\n",
    "\n",
    "from pytorch3d.renderer import FoVPerspectiveCameras, OpenGLPerspectiveCameras, PerspectiveCameras, SfMPerspectiveCameras\n",
    "from pytorch3d.vis.plotly_vis import plot_scene\n",
    "\n",
    "from dataset import CustomDataset, Co3dDataset\n",
    "from eval import evaluate_coordinate_ascent, evaluate_mst\n",
    "from models import get_model\n",
    "from utils import unnormalize_image, view_color_coded_images_from_path, view_color_coded_images_from_tensor"
   ]
  },
  {
   "cell_type": "code",
   "execution_count": 2,
   "metadata": {},
   "outputs": [],
   "source": [
    "def compute_angular_error_batch(rotation1, rotation2):\n",
    "    R_rel = np.einsum(\"Bij,Bjk ->Bik\", rotation1.transpose(0, 2, 1), rotation2)\n",
    "    t = (np.trace(R_rel, axis1=1, axis2=2) - 1) / 2\n",
    "    theta = np.arccos(np.clip(t, -1, 1))\n",
    "    return theta * 180 / np.pi\n",
    "\n",
    "def get_permutations(num_images, eval_time=False):\n",
    "    if not eval_time:\n",
    "        permutations = []\n",
    "        for i in range(1, num_images):\n",
    "            for j in range(num_images - 1):\n",
    "                if i > j:\n",
    "                    permutations.append((j, i))\n",
    "    else:\n",
    "        permutations = []\n",
    "        for i in range(0, num_images):\n",
    "            for j in range(0, num_images):\n",
    "                if i != j:\n",
    "                    permutations.append((j, i))\n",
    "\n",
    "    return permutations\n",
    "\n",
    "def get_n_consistent_cameras(R_pred, num_frames):\n",
    "    R_pred_n = torch.zeros(num_frames, 3, 3)\n",
    "    R_pred_n[0] = torch.eye(3)\n",
    "    for k, (i, j) in enumerate(get_permutations(num_frames, eval_time=True)):\n",
    "        if i == 0:\n",
    "            R_pred_n[j] = R_pred[k]\n",
    "\n",
    "    return R_pred_n\n",
    "\n",
    "def full_scene_scale(R, T):\n",
    "    # Calculate centroid of cameras in batch\n",
    "    cameras = FoVPerspectiveCameras(R=R, T=T)\n",
    "    cc = cameras.get_camera_center()\n",
    "    centroid = torch.mean(cc, dim=0)\n",
    "\n",
    "    # Determine distance from centroid to each camera\n",
    "    diffs = cc - centroid\n",
    "    norms = torch.linalg.norm(diffs, dim=1)\n",
    "\n",
    "    # Scene scale is the distance from the centroid to the furthest camera\n",
    "    furthest_index = torch.argmax(norms).item()\n",
    "    scale = norms[furthest_index].item()\n",
    "    return scale\n",
    "\n",
    "def compute_optimal_translation_alignment(T_A, T_B, R_B):\n",
    "    \"\"\"\n",
    "    Assuming right-multiplied rotation matrices.\n",
    "\n",
    "    E.g., for world2cam R and T, a world coordinate is transformed to camera coordinate\n",
    "    system using X_cam = X_world.T @ R + T = R.T @ X_world + T\n",
    "\n",
    "    Finds s, t that minimizes || T_A - (s * T_B + R_B.T @ t) ||^2\n",
    "\n",
    "    Args:\n",
    "        T_A (torch.Tensor): Target translation (N, 3).\n",
    "        T_B (torch.Tensor): Initial translation (N, 3).\n",
    "        R_B (torch.Tensor): Initial rotation (N, 3, 3).\n",
    "\n",
    "    Returns:\n",
    "        T_A_hat (torch.Tensor): s * T_B + t @ R_B (N, 3).\n",
    "        scale s (torch.Tensor): (1,).\n",
    "        translation t (torch.Tensor): (1, 3).\n",
    "    \"\"\"\n",
    "    n = len(T_A)\n",
    "\n",
    "    T_A = T_A.unsqueeze(2)\n",
    "    T_B = T_B.unsqueeze(2)\n",
    "\n",
    "    A = torch.sum(T_B * T_A)\n",
    "    B = (T_B.transpose(1, 2) @ R_B.transpose(1, 2)).sum(0) @ (R_B @ T_A).sum(0) / n\n",
    "    C = torch.sum(T_B * T_B)\n",
    "    D = (T_B.transpose(1, 2) @ R_B.transpose(1, 2)).sum(0)\n",
    "    E = (D * D).sum() / n\n",
    "\n",
    "    s = (A - B.sum()) / (C - E.sum())\n",
    "\n",
    "    t = (R_B @ (T_A - s * T_B)).sum(0) / n\n",
    "\n",
    "    T_A_hat = s * T_B + R_B.transpose(1, 2) @ t\n",
    "\n",
    "    return T_A_hat.squeeze(2), s, t.transpose(1, 0)\n",
    "\n",
    "def get_error(R_pred, T_pred, R_gt, T_gt, gt_scene_scale):\n",
    "    T_A_hat, _, _ = compute_optimal_translation_alignment(T_gt, T_pred, R_pred)\n",
    "    norm = torch.linalg.norm(T_gt - T_A_hat, dim=1) / gt_scene_scale\n",
    "    norms = np.ndarray.tolist(norm.detach().cpu().numpy())\n",
    "    norms = np.array(norms)\n",
    "    return norms, T_A_hat\n",
    "\n",
    "def blender2torch3d_objaverse(blw2blc):\n",
    "    homo = np.array([0,0,0,1])\n",
    "    R_blc2blw = blw2blc[:3, :3].T\n",
    "    T_blc2blw = -R_blc2blw @ blw2blc[:3, 3]\n",
    "    blc2blw = np.concatenate([R_blc2blw, T_blc2blw[...,None]], axis=-1)\n",
    "    blc2blw = np.concatenate([blc2blw, homo[None,...]], axis=0)\n",
    "    # * blender to opengl\n",
    "    blw2glw = np.array([[1,0,0,0], [0,0,1,0], [0,-1,0,0], [0,0,0,1]])\n",
    "    glw2blc = np.linalg.inv(blw2glw @ blc2blw)\n",
    "    # * opengl to pytorch3d\n",
    "    blc2pyc = np.array([[-1,0,0,0], [0,1,0,0], [0,0,-1,0], [0,0,0,1]])\n",
    "    glw2pyc = blc2pyc @ glw2blc\n",
    "    return glw2pyc\n",
    "\n",
    "def cartesian_to_spherical(xyz):\n",
    "    ptsnew = np.hstack((xyz, np.zeros(xyz.shape)))\n",
    "    xy = xyz[:,0]**2 + xyz[:,1]**2\n",
    "    z = np.sqrt(xy + xyz[:,2]**2)\n",
    "    theta = np.arctan2(np.sqrt(xy), xyz[:,2]) # for elevation angle defined from Z-axis down\n",
    "    #ptsnew[:,4] = np.arctan2(xyz[:,2], np.sqrt(xy)) # for elevation angle defined from XY-plane up\n",
    "    azimuth = np.arctan2(xyz[:,1], xyz[:,0])\n",
    "    return np.array([theta, azimuth, z])\n",
    "\n",
    "def get_T(target_RT, cond_RT):\n",
    "    R, T = target_RT[:3, :3], target_RT[:, -1]\n",
    "    T_target = -R.T @ T\n",
    "\n",
    "    R, T = cond_RT[:3, :3], cond_RT[:, -1]\n",
    "    T_cond = -R.T @ T\n",
    "\n",
    "    theta_cond, azimuth_cond, z_cond = cartesian_to_spherical(T_cond[None, :])\n",
    "    theta_target, azimuth_target, z_target = cartesian_to_spherical(T_target[None, :])\n",
    "    \n",
    "    d_theta = theta_target - theta_cond\n",
    "    d_azimuth = (azimuth_target - azimuth_cond) % (2 * np.pi)\n",
    "    d_z = z_target - z_cond\n",
    "\n",
    "    return d_theta, d_azimuth, d_z"
   ]
  },
  {
   "cell_type": "code",
   "execution_count": 32,
   "metadata": {},
   "outputs": [
    {
     "name": "stdout",
     "output_type": "stream",
     "text": [
      "Loading checkpoint ckpt_000130000.pth\n"
     ]
    }
   ],
   "source": [
    "# Load pretrained weights\n",
    "model, args = get_model(\n",
    "    model_dir=\"/home/xinyang/scratch/zelin_dev/threetothreed/relposepp/ckpts_refine_objaverse/finetune_best_new/1021_0518_LR1e-05_N8_RandomNTrue_B28_Pretrained0812_0954_AMP_TROURS_DDP\", # objaverse blender coord\n",
    "    # model_dir='/home/xinyang/scratch/zelin_dev/threetothreed/relposepp/ckpts_refine_objaverse/finetune_best_new/1022_1317_LR1e-05_N8_RandomNTrue_B32_Pretrained0812_0954_AMP_TROURS_DDP',\n",
    "    num_images=3,\n",
    "    device=\"cuda\"\n",
    ")"
   ]
  },
  {
   "cell_type": "code",
   "execution_count": 68,
   "metadata": {},
   "outputs": [],
   "source": [
    "image_dirs = [f\"/home/xinyang/scratch/zelin_dev/threetothreed/relposepp/data/objaverse_eval_slice/{i}/images\" for i in os.listdir(\"/home/xinyang/zelin_dev/threetothreed/relposepp/data/objaverse_eval_slice\")]\n",
    "mask_dirs = [f\"/home/xinyang/scratch/zelin_dev/threetothreed/relposepp/data/objaverse_eval_slice/{i}/masks\" for i in os.listdir(\"/home/xinyang/zelin_dev/threetothreed/relposepp/data/objaverse_eval_slice\")]\n",
    "pose_dirs = [f\"/home/xinyang/scratch/zelin_dev/threetothreed/relposepp/data/objaverse_eval_slice/{i}/poses\" for i in os.listdir(\"/home/xinyang/zelin_dev/threetothreed/relposepp/data/objaverse_eval_slice\")]"
   ]
  },
  {
   "cell_type": "code",
   "execution_count": null,
   "metadata": {},
   "outputs": [],
   "source": [
    "print(\"== Test Performance ===\")\n",
    "for image_dir,mask_dir,pose_dir in zip(image_dirs,mask_dirs,pose_dirs):\n",
    "    dataset = CustomDataset(\n",
    "        image_dir=image_dir,\n",
    "        mask_dir=mask_dir,\n",
    "    )\n",
    "    num_frames = dataset.n\n",
    "    batch = dataset.get_data(ids=np.arange(num_frames))\n",
    "    images = batch[\"image\"].to(\"cuda:0\")\n",
    "    crop_params = batch[\"crop_params\"].to(\"cuda:0\")\n",
    "    batched_images, batched_crop_params = images.unsqueeze(0), crop_params.unsqueeze(0)\n",
    "\n",
    "    _, hypothesis = evaluate_mst(\n",
    "        model=model,\n",
    "        images=batched_images,\n",
    "        crop_params=batched_crop_params,\n",
    "    )\n",
    "    R_pred = np.stack(hypothesis)\n",
    "\n",
    "\n",
    "    # Regress to optimal translation\n",
    "    with torch.no_grad():\n",
    "        _, logits, T_pred = model(\n",
    "            images=batched_images,\n",
    "            crop_params=batched_crop_params,\n",
    "        )\n",
    "        loss_rot = -torch.mean(torch.log_softmax(logits, dim=-1)[:, :, 0]).item()\n",
    "\n",
    "    R_pred_rel, hypothesis = evaluate_coordinate_ascent(\n",
    "        model=model,\n",
    "        images=batched_images,\n",
    "        crop_params=batched_crop_params,\n",
    "    )\n",
    "    R_final = np.stack(hypothesis)\n",
    "\n",
    "    R_gt = []\n",
    "    T_gt = []\n",
    "    for i in sorted(os.listdir(pose_dir)):\n",
    "        pose = np.load(f'{pose_dir}/{i}')\n",
    "        R_gt.append(pose[:3,:3])\n",
    "        T_gt.append(torch.tensor(pose[:3,-1]))\n",
    "    R_gt = np.stack(R_gt)\n",
    "    T_gt = torch.stack(T_gt)\n",
    "    permutations = get_permutations(num_frames, eval_time=True)\n",
    "    n_p = len(permutations)\n",
    "    relative_rotation = np.zeros((n_p, 3, 3))\n",
    "    for k, t in enumerate(permutations):\n",
    "        i, j = t\n",
    "        relative_rotation[k] = R_gt[i].T @ R_gt[j]\n",
    "    R_gt_rel = relative_rotation\n",
    "\n",
    "    error_R = compute_angular_error_batch(R_pred_rel, R_gt_rel)\n",
    "\n",
    "    R_pred_n = get_n_consistent_cameras(torch.from_numpy(R_pred_rel), num_frames)\n",
    "    gt_scene_scale = full_scene_scale(torch.from_numpy(R_gt), T_gt)\n",
    "    error_t, A_hat = get_error(R_pred_n.float(), T_pred.cpu().float(), R_gt, T_gt.float(), gt_scene_scale)\n",
    "\n",
    "    print(f'class name:{image_dir.split(\"/\")[-2]} loss_rot: {loss_rot:.3f} rotation error: {error_R.mean():.3f} translation error: {error_t.mean():.3f}')"
   ]
  },
  {
   "cell_type": "code",
   "execution_count": null,
   "metadata": {},
   "outputs": [],
   "source": [
    "image_dirs = [f\"/home/xinyang/zelin_dev/threetothreed/relposepp/data/objaverse_train_slice/{i}/images\" for i in os.listdir(\"/home/xinyang/zelin_dev/threetothreed/relposepp/data/objaverse_train_slice\")]\n",
    "mask_dirs = [f\"/home/xinyang/zelin_dev/threetothreed/relposepp/data/objaverse_train_slice/{i}/masks\" for i in os.listdir(\"/home/xinyang/zelin_dev/threetothreed/relposepp/data/objaverse_train_slice\")]\n",
    "pose_dirs = [f\"/home/xinyang/zelin_dev/threetothreed/relposepp/data/objaverse_train_slice/{i}/poses\" for i in os.listdir(\"/home/xinyang/zelin_dev/threetothreed/relposepp/data/objaverse_train_slice\")]"
   ]
  },
  {
   "cell_type": "code",
   "execution_count": null,
   "metadata": {},
   "outputs": [],
   "source": [
    "print(\"== Train Performance ===\")\n",
    "for image_dir,mask_dir,pose_dir in zip(image_dirs,mask_dirs,pose_dirs):\n",
    "    dataset = CustomDataset(\n",
    "        image_dir=image_dir,\n",
    "        mask_dir=mask_dir,\n",
    "    )\n",
    "    num_frames = dataset.n\n",
    "    batch = dataset.get_data(ids=np.arange(num_frames))\n",
    "    images = batch[\"image\"].to(\"cuda:0\")\n",
    "    crop_params = batch[\"crop_params\"].to(\"cuda:0\")\n",
    "    batched_images, batched_crop_params = images.unsqueeze(0), crop_params.unsqueeze(0)\n",
    "\n",
    "    _, hypothesis = evaluate_mst(\n",
    "        model=model,\n",
    "        images=batched_images,\n",
    "        crop_params=batched_crop_params,\n",
    "    )\n",
    "    R_pred = np.stack(hypothesis)\n",
    "\n",
    "\n",
    "    # Regress to optimal translation\n",
    "    with torch.no_grad():\n",
    "        _, logits, T_pred = model(\n",
    "            images=batched_images,\n",
    "            crop_params=batched_crop_params,\n",
    "        )\n",
    "        loss_rot = -torch.mean(torch.log_softmax(logits, dim=-1)[:, :, 0]).item()\n",
    "\n",
    "    R_pred_rel, hypothesis = evaluate_coordinate_ascent(\n",
    "        model=model,\n",
    "        images=batched_images,\n",
    "        crop_params=batched_crop_params,\n",
    "    )\n",
    "    R_final = np.stack(hypothesis)\n",
    "\n",
    "    R_gt = []\n",
    "    T_gt = []\n",
    "    for i in sorted(os.listdir(pose_dir)):\n",
    "        pose = np.load(f'{pose_dir}/{i}')\n",
    "        R_gt.append(pose[:3,:3])\n",
    "        T_gt.append(torch.tensor(pose[:3,-1]))\n",
    "    R_gt = np.stack(R_gt)\n",
    "    T_gt = torch.stack(T_gt)\n",
    "    permutations = get_permutations(num_frames, eval_time=True)\n",
    "    n_p = len(permutations)\n",
    "    relative_rotation = np.zeros((n_p, 3, 3))\n",
    "    for k, t in enumerate(permutations):\n",
    "        i, j = t\n",
    "        relative_rotation[k] = R_gt[i].T @ R_gt[j]\n",
    "    R_gt_rel = relative_rotation\n",
    "\n",
    "    error_R = compute_angular_error_batch(R_pred_rel, R_gt_rel)\n",
    "\n",
    "    R_pred_n = get_n_consistent_cameras(torch.from_numpy(R_pred_rel), num_frames)\n",
    "    gt_scene_scale = full_scene_scale(torch.from_numpy(R_gt), T_gt)\n",
    "    error_t, A_hat = get_error(R_pred_n.float(), T_pred.cpu().float(), R_gt, T_gt.float(), gt_scene_scale)\n",
    "\n",
    "    print(f'class name:{image_dir.split(\"/\")[-2]} loss_rot: {loss_rot:.3f} rotation error: {error_R.mean():.3f} translation error: {error_t.mean():.3f}')"
   ]
  },
  {
   "cell_type": "code",
   "execution_count": 65,
   "metadata": {},
   "outputs": [],
   "source": [
    "image_dirs = [f\"/home/xinyang/zelin_dev/threetothreed/dataset/GSO_blender_norandom/{i}/thumbnails\" for i in os.listdir(\"/home/xinyang/zelin_dev/threetothreed/dataset/GSO_blender_norandom\")]\n",
    "mask_dirs = [f\"/home/xinyang/zelin_dev/threetothreed/dataset/GSO_blender_norandom/{i}/masks\" for i in os.listdir(\"/home/xinyang/zelin_dev/threetothreed/dataset/GSO_blender_norandom\")]\n",
    "pose_dirs = [f\"/home/xinyang/zelin_dev/threetothreed/dataset/GSO_blender_norandom/{i}/poses\" for i in os.listdir(\"/home/xinyang/zelin_dev/threetothreed/dataset/GSO_blender_norandom\")]"
   ]
  },
  {
   "cell_type": "code",
   "execution_count": 66,
   "metadata": {},
   "outputs": [
    {
     "name": "stdout",
     "output_type": "stream",
     "text": [
      "== GSO Performance ===\n",
      "class name: Schleich_Lion_Action loss_rot: 13.122 rotation error: 75.807 translation error: 0.116\n",
      "class name: Black_Decker_CM2035B loss_rot: 13.122 rotation error: 36.030 translation error: 0.066\n",
      "class name: Schleich_Bald_Eagle  loss_rot: 13.122 rotation error: 48.711 translation error: 0.056\n",
      "class name: Womens_Hikerfish_Boo loss_rot: 13.122 rotation error: 79.044 translation error: 0.185\n",
      "class name: Circo_Fish_Toothbrus loss_rot: 13.122 rotation error: 33.717 translation error: 0.151\n",
      "class name: Ortho_Forward_Facing loss_rot: 13.122 rotation error: 40.326 translation error: 0.191\n",
      "class name: adistar_boost_m      loss_rot: 13.122 rotation error: 98.143 translation error: 0.273\n",
      "class name: Toysmith_Windem_Up_F loss_rot: 13.122 rotation error: 95.107 translation error: 0.154\n",
      "class name: Crosley_Alarm_Clock_ loss_rot: 13.122 rotation error: 60.513 translation error: 0.110\n",
      "class name: Schleich_Hereford_Bu loss_rot: 13.122 rotation error: 31.165 translation error: 0.129\n",
      "class name: STACKING_BEAR        loss_rot: 13.122 rotation error: 45.187 translation error: 0.112\n",
      "class name: Vtech_Roll_Learn_Tur loss_rot: 13.122 rotation error: 46.768 translation error: 0.191\n",
      "class name: Aroma_Stainless_Stee loss_rot: 13.122 rotation error: 42.877 translation error: 0.197\n",
      "class name: Sonny_School_Bus     loss_rot: 13.122 rotation error: 30.477 translation error: 0.090\n",
      "class name: Squirrel             loss_rot: 13.122 rotation error: 56.343 translation error: 0.098\n",
      "class name: SORTING_TRAIN        loss_rot: 13.122 rotation error: 30.671 translation error: 0.157\n",
      "class name: Racoon               loss_rot: 13.122 rotation error: 32.046 translation error: 0.085\n",
      "class name: Weisshai_Great_White loss_rot: 13.122 rotation error: 76.325 translation error: 0.135\n",
      "class name: Ortho_Forward_Facing loss_rot: 13.122 rotation error: 47.854 translation error: 0.041\n",
      "class name: Sootheze_Cold_Therap loss_rot: 13.122 rotation error: 65.646 translation error: 0.129\n",
      "class name: JA_Henckels_Internat loss_rot: 13.122 rotation error: 38.785 translation error: 0.090\n",
      "class name: Ortho_Forward_Facing loss_rot: 13.122 rotation error: 42.732 translation error: 0.146\n",
      "class name: Animal_Planet_Foam_2 loss_rot: 13.122 rotation error: 39.766 translation error: 0.168\n",
      "class name: Thomas_Friends_Woode loss_rot: 13.122 rotation error: 62.046 translation error: 0.115\n",
      "class name: Shark                loss_rot: 13.122 rotation error: 78.024 translation error: 0.128\n",
      "Mean! rot error: 53.364416426349486 trans error: 0.13249385189265012\n"
     ]
    }
   ],
   "source": [
    "print(\"== GSO Performance ===\")\n",
    "rot_loss_mean = []\n",
    "trans_loss_mean = []\n",
    "for image_dir,mask_dir,pose_dir in zip(image_dirs,mask_dirs,pose_dirs):\n",
    "    dataset = CustomDataset(\n",
    "        image_dir=image_dir,\n",
    "        mask_dir=mask_dir,\n",
    "    )\n",
    "    num_frames = dataset.n\n",
    "    batch = dataset.get_data(ids=np.arange(num_frames))\n",
    "    images = batch[\"image\"].to(\"cuda:0\")\n",
    "    crop_params = batch[\"crop_params\"].to(\"cuda:0\")\n",
    "    batched_images, batched_crop_params = images.unsqueeze(0), crop_params.unsqueeze(0)\n",
    "\n",
    "    _, hypothesis = evaluate_mst(\n",
    "        model=model,\n",
    "        images=batched_images,\n",
    "        crop_params=batched_crop_params,\n",
    "    )\n",
    "    R_pred = np.stack(hypothesis)\n",
    "\n",
    "\n",
    "    # Regress to optimal translation\n",
    "    with torch.no_grad():\n",
    "        _, logits, T_pred = model(\n",
    "            images=batched_images,\n",
    "            crop_params=batched_crop_params,\n",
    "        )\n",
    "        loss_rot = -torch.mean(torch.log_softmax(logits, dim=-1)[:, :, 0]).item()\n",
    "\n",
    "    R_pred_rel, hypothesis = evaluate_coordinate_ascent(\n",
    "        model=model,\n",
    "        images=batched_images,\n",
    "        crop_params=batched_crop_params,\n",
    "    )\n",
    "    R_final = np.stack(hypothesis)\n",
    "\n",
    "    R_gt = []\n",
    "    T_gt = []\n",
    "    for i in sorted(os.listdir(pose_dir)):\n",
    "        pose = np.load(f'{pose_dir}/{i}')\n",
    "        R_gt.append(pose[:3,:3])\n",
    "        T_gt.append(torch.tensor(pose[:3,-1]))\n",
    "    R_gt = np.stack(R_gt)\n",
    "    T_gt = torch.stack(T_gt)\n",
    "    permutations = get_permutations(num_frames, eval_time=True)\n",
    "    n_p = len(permutations)\n",
    "    relative_rotation = np.zeros((n_p, 3, 3))\n",
    "    for k, t in enumerate(permutations):\n",
    "        i, j = t\n",
    "        relative_rotation[k] = R_gt[i].T @ R_gt[j]\n",
    "    R_gt_rel = relative_rotation\n",
    "\n",
    "    error_R = compute_angular_error_batch(R_pred_rel, R_gt_rel)\n",
    "\n",
    "    R_pred_n = get_n_consistent_cameras(torch.from_numpy(R_pred_rel), num_frames)\n",
    "    gt_scene_scale = full_scene_scale(torch.from_numpy(R_gt), T_gt)\n",
    "    error_t, A_hat = get_error(R_pred_n.float(), T_pred.cpu().float(), R_gt, T_gt.float(), gt_scene_scale)\n",
    "\n",
    "    print(f'class name: {image_dir.split(\"/\")[-2][:20]:<20} loss_rot: {loss_rot:.3f} rotation error: {error_R.mean():.3f} translation error: {error_t.mean():.3f}')\n",
    "\n",
    "    rot_loss_mean.append(error_R)\n",
    "    trans_loss_mean.append(error_t)\n",
    "\n",
    "print(f'Mean! rot error: {np.mean(rot_loss_mean)} trans error: {np.mean(trans_loss_mean)}')\n"
   ]
  },
  {
   "cell_type": "code",
   "execution_count": 33,
   "metadata": {},
   "outputs": [],
   "source": [
    "\n",
    "# * OBJAVERSE EVAL\n",
    "IMAGE_DIR = \"/home/xinyang/zelin_dev/threetothreed/relposepp/data/objaverse_eval_slice/2f65cecb5f014787a9778359a947351b/images\"\n",
    "MASK_DIR = \"/home/xinyang/zelin_dev/threetothreed/relposepp/data/objaverse_eval_slice/2f65cecb5f014787a9778359a947351b/masks\"\n",
    "POSE_DIR = \"/home/xinyang/zelin_dev/threetothreed/relposepp/data/objaverse_eval_slice/2f65cecb5f014787a9778359a947351b/poses\"\n",
    "# * OBJAVERSE TRAIN\n",
    "# IMAGE_DIR = \"/home/xinyang/zelin_dev/threetothreed/relposepp/data/objaverse_train_slice/0b1ae6418893458a9f0e2b4e43e6c853/images\"\n",
    "# MASK_DIR = \"/home/xinyang/zelin_dev/threetothreed/relposepp/data/objaverse_train_slice/0b1ae6418893458a9f0e2b4e43e6c853/masks\"\n",
    "# POSE_DIR = \"/home/xinyang/zelin_dev/threetothreed/relposepp/data/objaverse_train_slice/0b1ae6418893458a9f0e2b4e43e6c853/poses\"\n",
    "# * GSO\n",
    "IMAGE_DIR = \"/home/xinyang/scratch/zelin_dev/threetothreed/dataset/data/demo/train/GSO_demo/BUNNY_RACER/images\"\n",
    "MASK_DIR = \"/home/xinyang/scratch/zelin_dev/threetothreed/dataset/data/demo/train/GSO_demo/BUNNY_RACER/masks\"\n",
    "POSE_DIR = \"/home/xinyang/scratch/zelin_dev/threetothreed/dataset/data/demo/train/GSO_demo/BUNNY_RACER/poses\"\n",
    "# * ABO\n",
    "# IMAGE_DIR = \"/home/xinyang/scratch/zelin_dev/threetothreed/dataset/data/demo/train/ABO_demo/B07B4MMTYW/images\"\n",
    "# MASK_DIR = \"/home/xinyang/scratch/zelin_dev/threetothreed/dataset/data/demo/train/ABO_demo/B07B4MMTYW/masks\"\n",
    "# POSE_DIR = \"/home/xinyang/scratch/zelin_dev/threetothreed/dataset/data/demo/train/ABO_demo/B07B4MMTYW/poses\"\n",
    "\n",
    "# Visualize initial images\n",
    "num_frames = view_color_coded_images_from_path(IMAGE_DIR)\n",
    "# Visualize initial masks\n",
    "num_frames = view_color_coded_images_from_path(MASK_DIR)"
   ]
  },
  {
   "cell_type": "code",
   "execution_count": 34,
   "metadata": {},
   "outputs": [
    {
     "data": {
      "image/png": "[encoded data removed]",
      "text/plain": [
       "<Figure size 800x400 with 8 Axes>"
      ]
     },
     "metadata": {},
     "output_type": "display_data"
    }
   ],
   "source": [
    "# Load in the wild images and crop parameters\n",
    "dataset = CustomDataset(\n",
    "    image_dir=IMAGE_DIR,\n",
    "    mask_dir=MASK_DIR,\n",
    ")\n",
    "num_frames = dataset.n\n",
    "batch = dataset.get_data(ids=np.arange(num_frames))\n",
    "images = batch[\"image\"].to(\"cuda:0\")\n",
    "crop_params = batch[\"crop_params\"].to(\"cuda:0\")\n",
    "\n",
    "# Visualize cropped and resized images\n",
    "view_color_coded_images_from_tensor(images)"
   ]
  },
  {
   "cell_type": "code",
   "execution_count": 35,
   "metadata": {},
   "outputs": [],
   "source": [
    "def plotly_scene_visualization(R_pred, T_pred, name, scale=0.1):\n",
    "    num_frames = len(T_pred)\n",
    "    # Construct cameras and visualize scene for quick solution\n",
    "    cameras_pred = FoVPerspectiveCameras(R=R_pred, T=T_pred, fov=39)\n",
    "    scenes = {name: {}}\n",
    "\n",
    "    for i in range(num_frames):\n",
    "        scenes[name][i] = FoVPerspectiveCameras(R=R_pred[i, None], T=T_pred[i, None], fov=39)\n",
    "\n",
    "    fig = plot_scene(\n",
    "        scenes,\n",
    "        camera_scale=scale,\n",
    "        ncols=2,\n",
    "    )\n",
    "    fig.update_scenes(aspectmode=\"data\")\n",
    "\n",
    "    cmap = plt.get_cmap(\"hsv\")\n",
    "    for i in range(num_frames):\n",
    "        fig.data[i].line.color = matplotlib.colors.to_hex(cmap(i / (num_frames)))\n",
    "\n",
    "    fig.show()"
   ]
  },
  {
   "cell_type": "code",
   "execution_count": 36,
   "metadata": {},
   "outputs": [
    {
     "name": "stdout",
     "output_type": "stream",
     "text": [
      "Iteratively finetuning the initial MST solution.\n"
     ]
    }
   ],
   "source": [
    "# Quickly initialize a coarse set of poses using MST reasoning\n",
    "batched_images, batched_crop_params = images.unsqueeze(0), crop_params.unsqueeze(0)\n",
    "\n",
    "_, hypothesis = evaluate_mst(\n",
    "    model=model,\n",
    "    images=batched_images,\n",
    "    crop_params=batched_crop_params,\n",
    ")\n",
    "R_pred = np.stack(hypothesis)\n",
    "\n",
    "\n",
    "# Regress to optimal translation\n",
    "with torch.no_grad():\n",
    "    _, _, T_pred = model(\n",
    "        images=batched_images,\n",
    "        crop_params=batched_crop_params,\n",
    "    )\n",
    "\n",
    "# Construct cameras and visualize scene for quick solution\n",
    "# plotly_scene_visualization(R_pred, T_pred, \"Initial Predicted Cameras\")\n",
    "\n",
    "# Search for optimal rotation via coordinate ascent.\n",
    "# This should take less than 30 seconds.\n",
    "print(\"Iteratively finetuning the initial MST solution.\")\n",
    "_, hypothesis = evaluate_coordinate_ascent(\n",
    "    model=model,\n",
    "    images=batched_images,\n",
    "    crop_params=batched_crop_params,\n",
    ")\n",
    "R_final = torch.from_numpy(np.stack(hypothesis))"
   ]
  },
  {
   "cell_type": "code",
   "execution_count": null,
   "metadata": {},
   "outputs": [],
   "source": [
    "def blender2torch3d_objaverse(blw2blc):\n",
    "    homo = np.array([0,0,0,1])\n",
    "    R_blc2blw = blw2blc[:3, :3].T\n",
    "    T_blc2blw = -R_blc2blw @ blw2blc[:3, 3]\n",
    "    blc2blw = np.concatenate([R_blc2blw, T_blc2blw[...,None]], axis=-1)\n",
    "    blc2blw = np.concatenate([blc2blw, homo[None,...]], axis=0)\n",
    "    # * blender to opengl\n",
    "    blw2glw = np.array([[1,0,0,0], [0,0,1,0], [0,-1,0,0], [0,0,0,1]])\n",
    "    glw2blc = np.linalg.inv(blw2glw @ blc2blw)\n",
    "    # * opengl to pytorch3d\n",
    "    blc2pyc = np.array([[-1,0,0,0], [0,1,0,0], [0,0,-1,0], [0,0,0,1]])\n",
    "    glw2pyc = blc2pyc @ glw2blc\n",
    "    return glw2pyc"
   ]
  },
  {
   "cell_type": "code",
   "execution_count": 42,
   "metadata": {},
   "outputs": [
    {
     "data": {
      "application/vnd.plotly.v1+json": {
       "config": {
        "plotlyServerURL": "https://plot.ly"
       },
       "data": [
        {
         "line": {
          "color": "#ff0000"
         },
         "marker": {
          "size": 1
         },
         "name": "0",
         "scene": "scene",
         "type": "scatter3d",
         "x": [
          0.36526697874069214,
          0.28040069341659546,
          0.292768657207489,
          0.28040069341659546,
          0.19553440809249878,
          0.12132658064365387,
          0.29105913639068604,
          0.36526697874069214,
          0.2807266116142273,
          0.19553440809249878,
          0.12132658064365387,
          0.2807266116142273,
          0.29105913639068604,
          0.2807266116142273,
          0.22458186745643616
         ],
         "y": [
          0.9467942714691162,
          0.9923374652862549,
          1.0049256086349487,
          0.9923374652862549,
          1.0378806591033936,
          0.9623517394065857,
          0.8712654113769531,
          0.9467942714691162,
          1.1014121770858765,
          1.0378806591033936,
          0.9623517394065857,
          1.1014121770858765,
          0.8712654113769531,
          1.1014121770858765,
          0.881153404712677
         ],
         "z": [
          0.8216931819915771,
          0.7947945594787598,
          0.777086615562439,
          0.7947945594787598,
          0.7678959369659424,
          0.874143660068512,
          0.9279409050941467,
          0.8216931819915771,
          0.978445291519165,
          0.7678959369659424,
          0.874143660068512,
          0.978445291519165,
          0.9279409050941467,
          0.978445291519165,
          0.7826550006866455
         ]
        },
        {
         "line": {
          "color": "#08ff00"
         },
         "marker": {
          "size": 1
         },
         "name": "1",
         "scene": "scene",
         "type": "scatter3d",
         "x": [
          -0.2964502274990082,
          -0.21241708099842072,
          -0.19975128769874573,
          -0.21241708099842072,
          -0.12838393449783325,
          -0.20437872409820557,
          -0.3724449872970581,
          -0.2964502274990082,
          -0.28897231817245483,
          -0.12838393449783325,
          -0.20437872409820557,
          -0.28897231817245483,
          -0.3724449872970581,
          -0.28897231817245483,
          -0.2311355471611023
         ],
         "y": [
          -0.8704741597175598,
          -0.9171046018600464,
          -0.9047481417655945,
          -0.9171046018600464,
          -0.9637351036071777,
          -1.0378739833831787,
          -0.944612979888916,
          -0.8704741597175598,
          -1.100907564163208,
          -0.9637351036071777,
          -1.0378739833831787,
          -1.100907564163208,
          -0.944612979888916,
          -1.100907564163208,
          -0.8808072805404663
         ],
         "z": [
          -0.9284282326698303,
          -0.9007871150970459,
          -0.9184476137161255,
          -0.9007871150970459,
          -0.8731459379196167,
          -0.7671825885772705,
          -0.8224649429321289,
          -0.9284282326698303,
          -0.9781226515769958,
          -0.8731459379196167,
          -0.7671825885772705,
          -0.9781226515769958,
          -0.8224649429321289,
          -0.9781226515769958,
          -0.7826467752456665
         ]
        },
        {
         "line": {
          "color": "#0010ff"
         },
         "marker": {
          "size": 1
         },
         "name": "2",
         "scene": "scene",
         "type": "scatter3d",
         "x": [
          -0.5870825052261353,
          -0.4946195185184479,
          -0.49444085359573364,
          -0.4946195185184479,
          -0.4021565318107605,
          -0.4032285213470459,
          -0.5881544947624207,
          -0.5870825052261353,
          -0.5713156461715698,
          -0.4021565318107605,
          -0.4032285213470459,
          -0.5713156461715698,
          -0.5881544947624207,
          -0.5713156461715698,
          -0.45707544684410095
         ],
         "y": [
          -1.164756417274475,
          -1.2028372287750244,
          -1.202845573425293,
          -1.2028372287750244,
          -1.2409180402755737,
          -1.2408678531646729,
          -1.1647062301635742,
          -1.164756417274475,
          -1.3877429962158203,
          -1.2409180402755737,
          -1.2408678531646729,
          -1.3877429962158203,
          -1.1647062301635742,
          -1.3877429962158203,
          -1.1103466749191284
         ],
         "z": [
          -0.07922469079494476,
          -0.07855111360549927,
          -0.10355047136545181,
          -0.07855111360549927,
          -0.07787753641605377,
          0.07211862504482269,
          0.0707714706659317,
          -0.07922469079494476,
          -0.004035406280308962,
          -0.07787753641605377,
          0.07211862504482269,
          -0.004035406280308962,
          0.0707714706659317,
          -0.004035406280308962,
          -0.0033118491992354393
         ]
        }
       ],
       "layout": {
        "annotations": [
         {
          "font": {
           "size": 16
          },
          "showarrow": false,
          "text": "Final Refined Cameras",
          "x": 0.225,
          "xanchor": "center",
          "xref": "paper",
          "y": 1,
          "yanchor": "bottom",
          "yref": "paper"
         }
        ],
        "scene": {
         "aspectmode": "data",
         "camera": {
          "up": {
           "x": 0,
           "y": 1,
           "z": 0
          }
         },
         "domain": {
          "x": [
           0,
           0.45
          ],
          "y": [
           0,
           1
          ]
         },
         "xaxis": {
          "backgroundcolor": "#fff",
          "range": [
           -0.7851260900497437,
           0.5017207860946655
          ],
          "showaxeslabels": false,
          "showgrid": false,
          "showline": false,
          "showticklabels": false,
          "ticks": "",
          "zeroline": false
         },
         "yaxis": {
          "backgroundcolor": "#fff",
          "range": [
           -1.5110357999801636,
           1.2313786745071411
          ],
          "showaxeslabels": false,
          "showgrid": false,
          "showline": false,
          "showticklabels": false,
          "ticks": "",
          "zeroline": false
         },
         "zaxis": {
          "backgroundcolor": "#fff",
          "range": [
           -1.1253597736358643,
           1.101807951927185
          ],
          "showaxeslabels": false,
          "showgrid": false,
          "showline": false,
          "showticklabels": false,
          "ticks": "",
          "zeroline": false
         }
        },
        "scene2": {
         "aspectmode": "data",
         "domain": {
          "x": [
           0.55,
           1
          ],
          "y": [
           0,
           1
          ]
         }
        },
        "template": {
         "data": {
          "bar": [
           {
            "error_x": {
             "color": "#2a3f5f"
            },
            "error_y": {
             "color": "#2a3f5f"
            },
            "marker": {
             "line": {
              "color": "#E5ECF6",
              "width": 0.5
             },
             "pattern": {
              "fillmode": "overlay",
              "size": 10,
              "solidity": 0.2
             }
            },
            "type": "bar"
           }
          ],
          "barpolar": [
           {
            "marker": {
             "line": {
              "color": "#E5ECF6",
              "width": 0.5
             },
             "pattern": {
              "fillmode": "overlay",
              "size": 10,
              "solidity": 0.2
             }
            },
            "type": "barpolar"
           }
          ],
          "carpet": [
           {
            "aaxis": {
             "endlinecolor": "#2a3f5f",
             "gridcolor": "white",
             "linecolor": "white",
             "minorgridcolor": "white",
             "startlinecolor": "#2a3f5f"
            },
            "baxis": {
             "endlinecolor": "#2a3f5f",
             "gridcolor": "white",
             "linecolor": "white",
             "minorgridcolor": "white",
             "startlinecolor": "#2a3f5f"
            },
            "type": "carpet"
           }
          ],
          "choropleth": [
           {
            "colorbar": {
             "outlinewidth": 0,
             "ticks": ""
            },
            "type": "choropleth"
           }
          ],
          "contour": [
           {
            "colorbar": {
             "outlinewidth": 0,
             "ticks": ""
            },
            "colorscale": [
             [
              0,
              "#0d0887"
             ],
             [
              0.1111111111111111,
              "#46039f"
             ],
             [
              0.2222222222222222,
              "#7201a8"
             ],
             [
              0.3333333333333333,
              "#9c179e"
             ],
             [
              0.4444444444444444,
              "#bd3786"
             ],
             [
              0.5555555555555556,
              "#d8576b"
             ],
             [
              0.6666666666666666,
              "#ed7953"
             ],
             [
              0.7777777777777778,
              "#fb9f3a"
             ],
             [
              0.8888888888888888,
              "#fdca26"
             ],
             [
              1,
              "#f0f921"
             ]
            ],
            "type": "contour"
           }
          ],
          "contourcarpet": [
           {
            "colorbar": {
             "outlinewidth": 0,
             "ticks": ""
            },
            "type": "contourcarpet"
           }
          ],
          "heatmap": [
           {
            "colorbar": {
             "outlinewidth": 0,
             "ticks": ""
            },
            "colorscale": [
             [
              0,
              "#0d0887"
             ],
             [
              0.1111111111111111,
              "#46039f"
             ],
             [
              0.2222222222222222,
              "#7201a8"
             ],
             [
              0.3333333333333333,
              "#9c179e"
             ],
             [
              0.4444444444444444,
              "#bd3786"
             ],
             [
              0.5555555555555556,
              "#d8576b"
             ],
             [
              0.6666666666666666,
              "#ed7953"
             ],
             [
              0.7777777777777778,
              "#fb9f3a"
             ],
             [
              0.8888888888888888,
              "#fdca26"
             ],
             [
              1,
              "#f0f921"
             ]
            ],
            "type": "heatmap"
           }
          ],
          "heatmapgl": [
           {
            "colorbar": {
             "outlinewidth": 0,
             "ticks": ""
            },
            "colorscale": [
             [
              0,
              "#0d0887"
             ],
             [
              0.1111111111111111,
              "#46039f"
             ],
             [
              0.2222222222222222,
              "#7201a8"
             ],
             [
              0.3333333333333333,
              "#9c179e"
             ],
             [
              0.4444444444444444,
              "#bd3786"
             ],
             [
              0.5555555555555556,
              "#d8576b"
             ],
             [
              0.6666666666666666,
              "#ed7953"
             ],
             [
              0.7777777777777778,
              "#fb9f3a"
             ],
             [
              0.8888888888888888,
              "#fdca26"
             ],
             [
              1,
              "#f0f921"
             ]
            ],
            "type": "heatmapgl"
           }
          ],
          "histogram": [
           {
            "marker": {
             "pattern": {
              "fillmode": "overlay",
              "size": 10,
              "solidity": 0.2
             }
            },
            "type": "histogram"
           }
          ],
          "histogram2d": [
           {
            "colorbar": {
             "outlinewidth": 0,
             "ticks": ""
            },
            "colorscale": [
             [
              0,
              "#0d0887"
             ],
             [
              0.1111111111111111,
              "#46039f"
             ],
             [
              0.2222222222222222,
              "#7201a8"
             ],
             [
              0.3333333333333333,
              "#9c179e"
             ],
             [
              0.4444444444444444,
              "#bd3786"
             ],
             [
              0.5555555555555556,
              "#d8576b"
             ],
             [
              0.6666666666666666,
              "#ed7953"
             ],
             [
              0.7777777777777778,
              "#fb9f3a"
             ],
             [
              0.8888888888888888,
              "#fdca26"
             ],
             [
              1,
              "#f0f921"
             ]
            ],
            "type": "histogram2d"
           }
          ],
          "histogram2dcontour": [
           {
            "colorbar": {
             "outlinewidth": 0,
             "ticks": ""
            },
            "colorscale": [
             [
              0,
              "#0d0887"
             ],
             [
              0.1111111111111111,
              "#46039f"
             ],
             [
              0.2222222222222222,
              "#7201a8"
             ],
             [
              0.3333333333333333,
              "#9c179e"
             ],
             [
              0.4444444444444444,
              "#bd3786"
             ],
             [
              0.5555555555555556,
              "#d8576b"
             ],
             [
              0.6666666666666666,
              "#ed7953"
             ],
             [
              0.7777777777777778,
              "#fb9f3a"
             ],
             [
              0.8888888888888888,
              "#fdca26"
             ],
             [
              1,
              "#f0f921"
             ]
            ],
            "type": "histogram2dcontour"
           }
          ],
          "mesh3d": [
           {
            "colorbar": {
             "outlinewidth": 0,
             "ticks": ""
            },
            "type": "mesh3d"
           }
          ],
          "parcoords": [
           {
            "line": {
             "colorbar": {
              "outlinewidth": 0,
              "ticks": ""
             }
            },
            "type": "parcoords"
           }
          ],
          "pie": [
           {
            "automargin": true,
            "type": "pie"
           }
          ],
          "scatter": [
           {
            "fillpattern": {
             "fillmode": "overlay",
             "size": 10,
             "solidity": 0.2
            },
            "type": "scatter"
           }
          ],
          "scatter3d": [
           {
            "line": {
             "colorbar": {
              "outlinewidth": 0,
              "ticks": ""
             }
            },
            "marker": {
             "colorbar": {
              "outlinewidth": 0,
              "ticks": ""
             }
            },
            "type": "scatter3d"
           }
          ],
          "scattercarpet": [
           {
            "marker": {
             "colorbar": {
              "outlinewidth": 0,
              "ticks": ""
             }
            },
            "type": "scattercarpet"
           }
          ],
          "scattergeo": [
           {
            "marker": {
             "colorbar": {
              "outlinewidth": 0,
              "ticks": ""
             }
            },
            "type": "scattergeo"
           }
          ],
          "scattergl": [
           {
            "marker": {
             "colorbar": {
              "outlinewidth": 0,
              "ticks": ""
             }
            },
            "type": "scattergl"
           }
          ],
          "scattermapbox": [
           {
            "marker": {
             "colorbar": {
              "outlinewidth": 0,
              "ticks": ""
             }
            },
            "type": "scattermapbox"
           }
          ],
          "scatterpolar": [
           {
            "marker": {
             "colorbar": {
              "outlinewidth": 0,
              "ticks": ""
             }
            },
            "type": "scatterpolar"
           }
          ],
          "scatterpolargl": [
           {
            "marker": {
             "colorbar": {
              "outlinewidth": 0,
              "ticks": ""
             }
            },
            "type": "scatterpolargl"
           }
          ],
          "scatterternary": [
           {
            "marker": {
             "colorbar": {
              "outlinewidth": 0,
              "ticks": ""
             }
            },
            "type": "scatterternary"
           }
          ],
          "surface": [
           {
            "colorbar": {
             "outlinewidth": 0,
             "ticks": ""
            },
            "colorscale": [
             [
              0,
              "#0d0887"
             ],
             [
              0.1111111111111111,
              "#46039f"
             ],
             [
              0.2222222222222222,
              "#7201a8"
             ],
             [
              0.3333333333333333,
              "#9c179e"
             ],
             [
              0.4444444444444444,
              "#bd3786"
             ],
             [
              0.5555555555555556,
              "#d8576b"
             ],
             [
              0.6666666666666666,
              "#ed7953"
             ],
             [
              0.7777777777777778,
              "#fb9f3a"
             ],
             [
              0.8888888888888888,
              "#fdca26"
             ],
             [
              1,
              "#f0f921"
             ]
            ],
            "type": "surface"
           }
          ],
          "table": [
           {
            "cells": {
             "fill": {
              "color": "#EBF0F8"
             },
             "line": {
              "color": "white"
             }
            },
            "header": {
             "fill": {
              "color": "#C8D4E3"
             },
             "line": {
              "color": "white"
             }
            },
            "type": "table"
           }
          ]
         },
         "layout": {
          "annotationdefaults": {
           "arrowcolor": "#2a3f5f",
           "arrowhead": 0,
           "arrowwidth": 1
          },
          "autotypenumbers": "strict",
          "coloraxis": {
           "colorbar": {
            "outlinewidth": 0,
            "ticks": ""
           }
          },
          "colorscale": {
           "diverging": [
            [
             0,
             "#8e0152"
            ],
            [
             0.1,
             "#c51b7d"
            ],
            [
             0.2,
             "#de77ae"
            ],
            [
             0.3,
             "#f1b6da"
            ],
            [
             0.4,
             "#fde0ef"
            ],
            [
             0.5,
             "#f7f7f7"
            ],
            [
             0.6,
             "#e6f5d0"
            ],
            [
             0.7,
             "#b8e186"
            ],
            [
             0.8,
             "#7fbc41"
            ],
            [
             0.9,
             "#4d9221"
            ],
            [
             1,
             "#276419"
            ]
           ],
           "sequential": [
            [
             0,
             "#0d0887"
            ],
            [
             0.1111111111111111,
             "#46039f"
            ],
            [
             0.2222222222222222,
             "#7201a8"
            ],
            [
             0.3333333333333333,
             "#9c179e"
            ],
            [
             0.4444444444444444,
             "#bd3786"
            ],
            [
             0.5555555555555556,
             "#d8576b"
            ],
            [
             0.6666666666666666,
             "#ed7953"
            ],
            [
             0.7777777777777778,
             "#fb9f3a"
            ],
            [
             0.8888888888888888,
             "#fdca26"
            ],
            [
             1,
             "#f0f921"
            ]
           ],
           "sequentialminus": [
            [
             0,
             "#0d0887"
            ],
            [
             0.1111111111111111,
             "#46039f"
            ],
            [
             0.2222222222222222,
             "#7201a8"
            ],
            [
             0.3333333333333333,
             "#9c179e"
            ],
            [
             0.4444444444444444,
             "#bd3786"
            ],
            [
             0.5555555555555556,
             "#d8576b"
            ],
            [
             0.6666666666666666,
             "#ed7953"
            ],
            [
             0.7777777777777778,
             "#fb9f3a"
            ],
            [
             0.8888888888888888,
             "#fdca26"
            ],
            [
             1,
             "#f0f921"
            ]
           ]
          },
          "colorway": [
           "#636efa",
           "#EF553B",
           "#00cc96",
           "#ab63fa",
           "#FFA15A",
           "#19d3f3",
           "#FF6692",
           "#B6E880",
           "#FF97FF",
           "#FECB52"
          ],
          "font": {
           "color": "#2a3f5f"
          },
          "geo": {
           "bgcolor": "white",
           "lakecolor": "white",
           "landcolor": "#E5ECF6",
           "showlakes": true,
           "showland": true,
           "subunitcolor": "white"
          },
          "hoverlabel": {
           "align": "left"
          },
          "hovermode": "closest",
          "mapbox": {
           "style": "light"
          },
          "paper_bgcolor": "white",
          "plot_bgcolor": "#E5ECF6",
          "polar": {
           "angularaxis": {
            "gridcolor": "white",
            "linecolor": "white",
            "ticks": ""
           },
           "bgcolor": "#E5ECF6",
           "radialaxis": {
            "gridcolor": "white",
            "linecolor": "white",
            "ticks": ""
           }
          },
          "scene": {
           "xaxis": {
            "backgroundcolor": "#E5ECF6",
            "gridcolor": "white",
            "gridwidth": 2,
            "linecolor": "white",
            "showbackground": true,
            "ticks": "",
            "zerolinecolor": "white"
           },
           "yaxis": {
            "backgroundcolor": "#E5ECF6",
            "gridcolor": "white",
            "gridwidth": 2,
            "linecolor": "white",
            "showbackground": true,
            "ticks": "",
            "zerolinecolor": "white"
           },
           "zaxis": {
            "backgroundcolor": "#E5ECF6",
            "gridcolor": "white",
            "gridwidth": 2,
            "linecolor": "white",
            "showbackground": true,
            "ticks": "",
            "zerolinecolor": "white"
           }
          },
          "shapedefaults": {
           "line": {
            "color": "#2a3f5f"
           }
          },
          "ternary": {
           "aaxis": {
            "gridcolor": "white",
            "linecolor": "white",
            "ticks": ""
           },
           "baxis": {
            "gridcolor": "white",
            "linecolor": "white",
            "ticks": ""
           },
           "bgcolor": "#E5ECF6",
           "caxis": {
            "gridcolor": "white",
            "linecolor": "white",
            "ticks": ""
           }
          },
          "title": {
           "x": 0.05
          },
          "xaxis": {
           "automargin": true,
           "gridcolor": "white",
           "linecolor": "white",
           "ticks": "",
           "title": {
            "standoff": 15
           },
           "zerolinecolor": "white",
           "zerolinewidth": 2
          },
          "yaxis": {
           "automargin": true,
           "gridcolor": "white",
           "linecolor": "white",
           "ticks": "",
           "title": {
            "standoff": 15
           },
           "zerolinecolor": "white",
           "zerolinewidth": 2
          }
         }
        }
       }
      },
      "text/html": [
       "<div>                            <div id=\"b58d23f1-10d6-4499-b9ff-18275e558feb\" class=\"plotly-graph-div\" style=\"height:525px; width:100%;\"></div>            <script type=\"text/javascript\">                require([\"plotly\"], function(Plotly) {                    window.PLOTLYENV=window.PLOTLYENV || {};                                    if (document.getElementById(\"b58d23f1-10d6-4499-b9ff-18275e558feb\")) {                    Plotly.newPlot(                        \"b58d23f1-10d6-4499-b9ff-18275e558feb\",                        [{\"marker\":{\"size\":1},\"name\":\"0\",\"x\":[0.36526697874069214,0.28040069341659546,0.292768657207489,0.28040069341659546,0.19553440809249878,0.12132658064365387,0.29105913639068604,0.36526697874069214,0.2807266116142273,0.19553440809249878,0.12132658064365387,0.2807266116142273,0.29105913639068604,0.2807266116142273,0.22458186745643616],\"y\":[0.9467942714691162,0.9923374652862549,1.0049256086349487,0.9923374652862549,1.0378806591033936,0.9623517394065857,0.8712654113769531,0.9467942714691162,1.1014121770858765,1.0378806591033936,0.9623517394065857,1.1014121770858765,0.8712654113769531,1.1014121770858765,0.881153404712677],\"z\":[0.8216931819915771,0.7947945594787598,0.777086615562439,0.7947945594787598,0.7678959369659424,0.874143660068512,0.9279409050941467,0.8216931819915771,0.978445291519165,0.7678959369659424,0.874143660068512,0.978445291519165,0.9279409050941467,0.978445291519165,0.7826550006866455],\"type\":\"scatter3d\",\"scene\":\"scene\",\"line\":{\"color\":\"#ff0000\"}},{\"marker\":{\"size\":1},\"name\":\"1\",\"x\":[-0.2964502274990082,-0.21241708099842072,-0.19975128769874573,-0.21241708099842072,-0.12838393449783325,-0.20437872409820557,-0.3724449872970581,-0.2964502274990082,-0.28897231817245483,-0.12838393449783325,-0.20437872409820557,-0.28897231817245483,-0.3724449872970581,-0.28897231817245483,-0.2311355471611023],\"y\":[-0.8704741597175598,-0.9171046018600464,-0.9047481417655945,-0.9171046018600464,-0.9637351036071777,-1.0378739833831787,-0.944612979888916,-0.8704741597175598,-1.100907564163208,-0.9637351036071777,-1.0378739833831787,-1.100907564163208,-0.944612979888916,-1.100907564163208,-0.8808072805404663],\"z\":[-0.9284282326698303,-0.9007871150970459,-0.9184476137161255,-0.9007871150970459,-0.8731459379196167,-0.7671825885772705,-0.8224649429321289,-0.9284282326698303,-0.9781226515769958,-0.8731459379196167,-0.7671825885772705,-0.9781226515769958,-0.8224649429321289,-0.9781226515769958,-0.7826467752456665],\"type\":\"scatter3d\",\"scene\":\"scene\",\"line\":{\"color\":\"#08ff00\"}},{\"marker\":{\"size\":1},\"name\":\"2\",\"x\":[-0.5870825052261353,-0.4946195185184479,-0.49444085359573364,-0.4946195185184479,-0.4021565318107605,-0.4032285213470459,-0.5881544947624207,-0.5870825052261353,-0.5713156461715698,-0.4021565318107605,-0.4032285213470459,-0.5713156461715698,-0.5881544947624207,-0.5713156461715698,-0.45707544684410095],\"y\":[-1.164756417274475,-1.2028372287750244,-1.202845573425293,-1.2028372287750244,-1.2409180402755737,-1.2408678531646729,-1.1647062301635742,-1.164756417274475,-1.3877429962158203,-1.2409180402755737,-1.2408678531646729,-1.3877429962158203,-1.1647062301635742,-1.3877429962158203,-1.1103466749191284],\"z\":[-0.07922469079494476,-0.07855111360549927,-0.10355047136545181,-0.07855111360549927,-0.07787753641605377,0.07211862504482269,0.0707714706659317,-0.07922469079494476,-0.004035406280308962,-0.07787753641605377,0.07211862504482269,-0.004035406280308962,0.0707714706659317,-0.004035406280308962,-0.0033118491992354393],\"type\":\"scatter3d\",\"scene\":\"scene\",\"line\":{\"color\":\"#0010ff\"}}],                        {\"template\":{\"data\":{\"histogram2dcontour\":[{\"type\":\"histogram2dcontour\",\"colorbar\":{\"outlinewidth\":0,\"ticks\":\"\"},\"colorscale\":[[0.0,\"#0d0887\"],[0.1111111111111111,\"#46039f\"],[0.2222222222222222,\"#7201a8\"],[0.3333333333333333,\"#9c179e\"],[0.4444444444444444,\"#bd3786\"],[0.5555555555555556,\"#d8576b\"],[0.6666666666666666,\"#ed7953\"],[0.7777777777777778,\"#fb9f3a\"],[0.8888888888888888,\"#fdca26\"],[1.0,\"#f0f921\"]]}],\"choropleth\":[{\"type\":\"choropleth\",\"colorbar\":{\"outlinewidth\":0,\"ticks\":\"\"}}],\"histogram2d\":[{\"type\":\"histogram2d\",\"colorbar\":{\"outlinewidth\":0,\"ticks\":\"\"},\"colorscale\":[[0.0,\"#0d0887\"],[0.1111111111111111,\"#46039f\"],[0.2222222222222222,\"#7201a8\"],[0.3333333333333333,\"#9c179e\"],[0.4444444444444444,\"#bd3786\"],[0.5555555555555556,\"#d8576b\"],[0.6666666666666666,\"#ed7953\"],[0.7777777777777778,\"#fb9f3a\"],[0.8888888888888888,\"#fdca26\"],[1.0,\"#f0f921\"]]}],\"heatmap\":[{\"type\":\"heatmap\",\"colorbar\":{\"outlinewidth\":0,\"ticks\":\"\"},\"colorscale\":[[0.0,\"#0d0887\"],[0.1111111111111111,\"#46039f\"],[0.2222222222222222,\"#7201a8\"],[0.3333333333333333,\"#9c179e\"],[0.4444444444444444,\"#bd3786\"],[0.5555555555555556,\"#d8576b\"],[0.6666666666666666,\"#ed7953\"],[0.7777777777777778,\"#fb9f3a\"],[0.8888888888888888,\"#fdca26\"],[1.0,\"#f0f921\"]]}],\"heatmapgl\":[{\"type\":\"heatmapgl\",\"colorbar\":{\"outlinewidth\":0,\"ticks\":\"\"},\"colorscale\":[[0.0,\"#0d0887\"],[0.1111111111111111,\"#46039f\"],[0.2222222222222222,\"#7201a8\"],[0.3333333333333333,\"#9c179e\"],[0.4444444444444444,\"#bd3786\"],[0.5555555555555556,\"#d8576b\"],[0.6666666666666666,\"#ed7953\"],[0.7777777777777778,\"#fb9f3a\"],[0.8888888888888888,\"#fdca26\"],[1.0,\"#f0f921\"]]}],\"contourcarpet\":[{\"type\":\"contourcarpet\",\"colorbar\":{\"outlinewidth\":0,\"ticks\":\"\"}}],\"contour\":[{\"type\":\"contour\",\"colorbar\":{\"outlinewidth\":0,\"ticks\":\"\"},\"colorscale\":[[0.0,\"#0d0887\"],[0.1111111111111111,\"#46039f\"],[0.2222222222222222,\"#7201a8\"],[0.3333333333333333,\"#9c179e\"],[0.4444444444444444,\"#bd3786\"],[0.5555555555555556,\"#d8576b\"],[0.6666666666666666,\"#ed7953\"],[0.7777777777777778,\"#fb9f3a\"],[0.8888888888888888,\"#fdca26\"],[1.0,\"#f0f921\"]]}],\"surface\":[{\"type\":\"surface\",\"colorbar\":{\"outlinewidth\":0,\"ticks\":\"\"},\"colorscale\":[[0.0,\"#0d0887\"],[0.1111111111111111,\"#46039f\"],[0.2222222222222222,\"#7201a8\"],[0.3333333333333333,\"#9c179e\"],[0.4444444444444444,\"#bd3786\"],[0.5555555555555556,\"#d8576b\"],[0.6666666666666666,\"#ed7953\"],[0.7777777777777778,\"#fb9f3a\"],[0.8888888888888888,\"#fdca26\"],[1.0,\"#f0f921\"]]}],\"mesh3d\":[{\"type\":\"mesh3d\",\"colorbar\":{\"outlinewidth\":0,\"ticks\":\"\"}}],\"scatter\":[{\"fillpattern\":{\"fillmode\":\"overlay\",\"size\":10,\"solidity\":0.2},\"type\":\"scatter\"}],\"parcoords\":[{\"type\":\"parcoords\",\"line\":{\"colorbar\":{\"outlinewidth\":0,\"ticks\":\"\"}}}],\"scatterpolargl\":[{\"type\":\"scatterpolargl\",\"marker\":{\"colorbar\":{\"outlinewidth\":0,\"ticks\":\"\"}}}],\"bar\":[{\"error_x\":{\"color\":\"#2a3f5f\"},\"error_y\":{\"color\":\"#2a3f5f\"},\"marker\":{\"line\":{\"color\":\"#E5ECF6\",\"width\":0.5},\"pattern\":{\"fillmode\":\"overlay\",\"size\":10,\"solidity\":0.2}},\"type\":\"bar\"}],\"scattergeo\":[{\"type\":\"scattergeo\",\"marker\":{\"colorbar\":{\"outlinewidth\":0,\"ticks\":\"\"}}}],\"scatterpolar\":[{\"type\":\"scatterpolar\",\"marker\":{\"colorbar\":{\"outlinewidth\":0,\"ticks\":\"\"}}}],\"histogram\":[{\"marker\":{\"pattern\":{\"fillmode\":\"overlay\",\"size\":10,\"solidity\":0.2}},\"type\":\"histogram\"}],\"scattergl\":[{\"type\":\"scattergl\",\"marker\":{\"colorbar\":{\"outlinewidth\":0,\"ticks\":\"\"}}}],\"scatter3d\":[{\"type\":\"scatter3d\",\"line\":{\"colorbar\":{\"outlinewidth\":0,\"ticks\":\"\"}},\"marker\":{\"colorbar\":{\"outlinewidth\":0,\"ticks\":\"\"}}}],\"scattermapbox\":[{\"type\":\"scattermapbox\",\"marker\":{\"colorbar\":{\"outlinewidth\":0,\"ticks\":\"\"}}}],\"scatterternary\":[{\"type\":\"scatterternary\",\"marker\":{\"colorbar\":{\"outlinewidth\":0,\"ticks\":\"\"}}}],\"scattercarpet\":[{\"type\":\"scattercarpet\",\"marker\":{\"colorbar\":{\"outlinewidth\":0,\"ticks\":\"\"}}}],\"carpet\":[{\"aaxis\":{\"endlinecolor\":\"#2a3f5f\",\"gridcolor\":\"white\",\"linecolor\":\"white\",\"minorgridcolor\":\"white\",\"startlinecolor\":\"#2a3f5f\"},\"baxis\":{\"endlinecolor\":\"#2a3f5f\",\"gridcolor\":\"white\",\"linecolor\":\"white\",\"minorgridcolor\":\"white\",\"startlinecolor\":\"#2a3f5f\"},\"type\":\"carpet\"}],\"table\":[{\"cells\":{\"fill\":{\"color\":\"#EBF0F8\"},\"line\":{\"color\":\"white\"}},\"header\":{\"fill\":{\"color\":\"#C8D4E3\"},\"line\":{\"color\":\"white\"}},\"type\":\"table\"}],\"barpolar\":[{\"marker\":{\"line\":{\"color\":\"#E5ECF6\",\"width\":0.5},\"pattern\":{\"fillmode\":\"overlay\",\"size\":10,\"solidity\":0.2}},\"type\":\"barpolar\"}],\"pie\":[{\"automargin\":true,\"type\":\"pie\"}]},\"layout\":{\"autotypenumbers\":\"strict\",\"colorway\":[\"#636efa\",\"#EF553B\",\"#00cc96\",\"#ab63fa\",\"#FFA15A\",\"#19d3f3\",\"#FF6692\",\"#B6E880\",\"#FF97FF\",\"#FECB52\"],\"font\":{\"color\":\"#2a3f5f\"},\"hovermode\":\"closest\",\"hoverlabel\":{\"align\":\"left\"},\"paper_bgcolor\":\"white\",\"plot_bgcolor\":\"#E5ECF6\",\"polar\":{\"bgcolor\":\"#E5ECF6\",\"angularaxis\":{\"gridcolor\":\"white\",\"linecolor\":\"white\",\"ticks\":\"\"},\"radialaxis\":{\"gridcolor\":\"white\",\"linecolor\":\"white\",\"ticks\":\"\"}},\"ternary\":{\"bgcolor\":\"#E5ECF6\",\"aaxis\":{\"gridcolor\":\"white\",\"linecolor\":\"white\",\"ticks\":\"\"},\"baxis\":{\"gridcolor\":\"white\",\"linecolor\":\"white\",\"ticks\":\"\"},\"caxis\":{\"gridcolor\":\"white\",\"linecolor\":\"white\",\"ticks\":\"\"}},\"coloraxis\":{\"colorbar\":{\"outlinewidth\":0,\"ticks\":\"\"}},\"colorscale\":{\"sequential\":[[0.0,\"#0d0887\"],[0.1111111111111111,\"#46039f\"],[0.2222222222222222,\"#7201a8\"],[0.3333333333333333,\"#9c179e\"],[0.4444444444444444,\"#bd3786\"],[0.5555555555555556,\"#d8576b\"],[0.6666666666666666,\"#ed7953\"],[0.7777777777777778,\"#fb9f3a\"],[0.8888888888888888,\"#fdca26\"],[1.0,\"#f0f921\"]],\"sequentialminus\":[[0.0,\"#0d0887\"],[0.1111111111111111,\"#46039f\"],[0.2222222222222222,\"#7201a8\"],[0.3333333333333333,\"#9c179e\"],[0.4444444444444444,\"#bd3786\"],[0.5555555555555556,\"#d8576b\"],[0.6666666666666666,\"#ed7953\"],[0.7777777777777778,\"#fb9f3a\"],[0.8888888888888888,\"#fdca26\"],[1.0,\"#f0f921\"]],\"diverging\":[[0,\"#8e0152\"],[0.1,\"#c51b7d\"],[0.2,\"#de77ae\"],[0.3,\"#f1b6da\"],[0.4,\"#fde0ef\"],[0.5,\"#f7f7f7\"],[0.6,\"#e6f5d0\"],[0.7,\"#b8e186\"],[0.8,\"#7fbc41\"],[0.9,\"#4d9221\"],[1,\"#276419\"]]},\"xaxis\":{\"gridcolor\":\"white\",\"linecolor\":\"white\",\"ticks\":\"\",\"title\":{\"standoff\":15},\"zerolinecolor\":\"white\",\"automargin\":true,\"zerolinewidth\":2},\"yaxis\":{\"gridcolor\":\"white\",\"linecolor\":\"white\",\"ticks\":\"\",\"title\":{\"standoff\":15},\"zerolinecolor\":\"white\",\"automargin\":true,\"zerolinewidth\":2},\"scene\":{\"xaxis\":{\"backgroundcolor\":\"#E5ECF6\",\"gridcolor\":\"white\",\"linecolor\":\"white\",\"showbackground\":true,\"ticks\":\"\",\"zerolinecolor\":\"white\",\"gridwidth\":2},\"yaxis\":{\"backgroundcolor\":\"#E5ECF6\",\"gridcolor\":\"white\",\"linecolor\":\"white\",\"showbackground\":true,\"ticks\":\"\",\"zerolinecolor\":\"white\",\"gridwidth\":2},\"zaxis\":{\"backgroundcolor\":\"#E5ECF6\",\"gridcolor\":\"white\",\"linecolor\":\"white\",\"showbackground\":true,\"ticks\":\"\",\"zerolinecolor\":\"white\",\"gridwidth\":2}},\"shapedefaults\":{\"line\":{\"color\":\"#2a3f5f\"}},\"annotationdefaults\":{\"arrowcolor\":\"#2a3f5f\",\"arrowhead\":0,\"arrowwidth\":1},\"geo\":{\"bgcolor\":\"white\",\"landcolor\":\"#E5ECF6\",\"subunitcolor\":\"white\",\"showland\":true,\"showlakes\":true,\"lakecolor\":\"white\"},\"title\":{\"x\":0.05},\"mapbox\":{\"style\":\"light\"}}},\"scene\":{\"domain\":{\"x\":[0.0,0.45],\"y\":[0.0,1.0]},\"xaxis\":{\"range\":[-0.7851260900497437,0.5017207860946655],\"showgrid\":false,\"zeroline\":false,\"showline\":false,\"ticks\":\"\",\"showticklabels\":false,\"backgroundcolor\":\"#fff\",\"showaxeslabels\":false},\"yaxis\":{\"range\":[-1.5110357999801636,1.2313786745071411],\"showgrid\":false,\"zeroline\":false,\"showline\":false,\"ticks\":\"\",\"showticklabels\":false,\"backgroundcolor\":\"#fff\",\"showaxeslabels\":false},\"zaxis\":{\"range\":[-1.1253597736358643,1.101807951927185],\"showgrid\":false,\"zeroline\":false,\"showline\":false,\"ticks\":\"\",\"showticklabels\":false,\"backgroundcolor\":\"#fff\",\"showaxeslabels\":false},\"camera\":{\"up\":{\"x\":0.0,\"y\":1.0,\"z\":0.0}},\"aspectmode\":\"data\"},\"scene2\":{\"domain\":{\"x\":[0.55,1.0],\"y\":[0.0,1.0]},\"aspectmode\":\"data\"},\"annotations\":[{\"font\":{\"size\":16},\"showarrow\":false,\"text\":\"Final Refined Cameras\",\"x\":0.225,\"xanchor\":\"center\",\"xref\":\"paper\",\"y\":1.0,\"yanchor\":\"bottom\",\"yref\":\"paper\"}]},                        {\"responsive\": true}                    ).then(function(){\n",
       "                            \n",
       "var gd = document.getElementById('b58d23f1-10d6-4499-b9ff-18275e558feb');\n",
       "var x = new MutationObserver(function (mutations, observer) {{\n",
       "        var display = window.getComputedStyle(gd).display;\n",
       "        if (!display || display === 'none') {{\n",
       "            console.log([gd, 'removed!']);\n",
       "            Plotly.purge(gd);\n",
       "            observer.disconnect();\n",
       "        }}\n",
       "}});\n",
       "\n",
       "// Listen for the removal of the full notebook cells\n",
       "var notebookContainer = gd.closest('#notebook-container');\n",
       "if (notebookContainer) {{\n",
       "    x.observe(notebookContainer, {childList: true});\n",
       "}}\n",
       "\n",
       "// Listen for the clearing of the current output cell\n",
       "var outputEl = gd.closest('.output');\n",
       "if (outputEl) {{\n",
       "    x.observe(outputEl, {childList: true});\n",
       "}}\n",
       "\n",
       "                        })                };                });            </script>        </div>"
      ]
     },
     "metadata": {},
     "output_type": "display_data"
    },
    {
     "data": {
      "application/vnd.plotly.v1+json": {
       "config": {
        "plotlyServerURL": "https://plot.ly"
       },
       "data": [
        {
         "line": {
          "color": "#ff0000"
         },
         "marker": {
          "size": 1
         },
         "name": "0",
         "scene": "scene",
         "type": "scatter3d",
         "x": [
          -0.9899494051933289,
          -0.9192387461662292,
          -0.9192387461662292,
          -0.9192387461662292,
          -0.8485280871391296,
          -0.8485280871391296,
          -0.9899494051933289,
          -0.9899494051933289,
          -1.0606601238250732,
          -0.8485280871391296,
          -0.8485280871391296,
          -1.0606601238250732,
          -0.9899494051933289,
          -1.0606601238250732,
          -0.8485280871391296
         ],
         "y": [
          -0.35931193828582764,
          -0.39466726779937744,
          -0.3730166256427765,
          -0.39466726779937744,
          -0.43002259731292725,
          -0.5599263906478882,
          -0.4892157316207886,
          -0.35931193828582764,
          -0.5303298234939575,
          -0.43002259731292725,
          -0.5599263906478882,
          -0.5303298234939575,
          -0.4892157316207886,
          -0.5303298234939575,
          -0.4242638349533081
         ],
         "z": [
          -0.7723468542098999,
          -0.8335841298103333,
          -0.8460841178894043,
          -0.8335841298103333,
          -0.8948213458061218,
          -0.8198213577270508,
          -0.6973468661308289,
          -0.7723468542098999,
          -0.9185585975646973,
          -0.8948213458061218,
          -0.8198213577270508,
          -0.9185585975646973,
          -0.6973468661308289,
          -0.9185585975646973,
          -0.7348468899726868
         ]
        },
        {
         "line": {
          "color": "#08ff00"
         },
         "marker": {
          "size": 1
         },
         "name": "1",
         "scene": "scene",
         "type": "scatter3d",
         "x": [
          0.10000000149011612,
          -7.960202556570121e-17,
          -7.960202556570121e-17,
          -7.960202556570121e-17,
          -0.10000000149011612,
          -0.10000000149011612,
          0.10000000149011612,
          0.10000000149011612,
          -9.184849409155289e-17,
          -0.10000000149011612,
          -0.10000000149011612,
          -9.184849409155289e-17,
          0.10000000149011612,
          -9.184849409155289e-17,
          -7.347879130277537e-17
         ],
         "y": [
          0.07499998807907104,
          0.07499998807907104,
          0.09999997913837433,
          0.07499998807907104,
          0.07499998807907104,
          -0.07500000298023224,
          -0.07500000298023224,
          0.07499998807907104,
          -3.552713678800501e-15,
          0.07499998807907104,
          -0.07500000298023224,
          -3.552713678800501e-15,
          -0.07500000298023224,
          -3.552713678800501e-15,
          -1.0268565553417375e-8
         ],
         "z": [
          1.2999998331069946,
          1.2999998331069946,
          1.2999998331069946,
          1.2999998331069946,
          1.2999998331069946,
          1.2999998331069946,
          1.2999998331069946,
          1.2999998331069946,
          1.499999761581421,
          1.2999998331069946,
          1.2999998331069946,
          1.499999761581421,
          1.2999998331069946,
          1.499999761581421,
          1.1999998092651367
         ]
        },
        {
         "line": {
          "color": "#0010ff"
         },
         "marker": {
          "size": 1
         },
         "name": "2",
         "scene": "scene",
         "type": "scatter3d",
         "x": [
          0.9899495840072632,
          0.9192388653755188,
          0.9192388653755188,
          0.9192388653755188,
          0.8485282063484192,
          0.8485282063484192,
          0.9899495840072632,
          0.9899495840072632,
          1.0606602430343628,
          0.8485282063484192,
          0.8485282063484192,
          1.0606602430343628,
          0.9899495840072632,
          1.0606602430343628,
          0.8485282063484192
         ],
         "y": [
          0.07499999552965164,
          0.07499999552965164,
          0.10000000149011612,
          0.07499999552965164,
          0.07499999552965164,
          -0.07500002533197403,
          -0.07500002533197403,
          0.07499999552965164,
          -3.3335425086988835e-8,
          0.07499999552965164,
          -0.07500002533197403,
          -3.3335425086988835e-8,
          -0.07500002533197403,
          -3.3335425086988835e-8,
          -1.0572573927447593e-8
         ],
         "z": [
          0.8485282063484192,
          0.9192388653755188,
          0.9192389249801636,
          0.9192388653755188,
          0.9899495840072632,
          0.9899495840072632,
          0.8485282063484192,
          0.8485282063484192,
          1.0606602430343628,
          0.9899495840072632,
          0.9899495840072632,
          1.0606602430343628,
          0.8485282063484192,
          1.0606602430343628,
          0.8485282063484192
         ]
        }
       ],
       "layout": {
        "annotations": [
         {
          "font": {
           "size": 16
          },
          "showarrow": false,
          "text": "Ground Truth Cameras",
          "x": 0.225,
          "xanchor": "center",
          "xref": "paper",
          "y": 1,
          "yanchor": "bottom",
          "yref": "paper"
         }
        ],
        "scene": {
         "aspectmode": "data",
         "camera": {
          "up": {
           "x": 0,
           "y": 1,
           "z": 0
          }
         },
         "domain": {
          "x": [
           0,
           0.45
          ],
          "y": [
           0,
           1
          ]
         },
         "xaxis": {
          "backgroundcolor": "#fff",
          "range": [
           -1.1640206575393677,
           1.154941201210022
          ],
          "showaxeslabels": false,
          "showgrid": false,
          "showline": false,
          "showticklabels": false,
          "ticks": "",
          "zeroline": false
         },
         "yaxis": {
          "backgroundcolor": "#fff",
          "range": [
           -0.6781822443008423,
           0.3166666030883789
          ],
          "showaxeslabels": false,
          "showgrid": false,
          "showline": false,
          "showticklabels": false,
          "ticks": "",
          "zeroline": false
         },
         "zaxis": {
          "backgroundcolor": "#fff",
          "range": [
           -1.0460416078567505,
           1.6333330869674683
          ],
          "showaxeslabels": false,
          "showgrid": false,
          "showline": false,
          "showticklabels": false,
          "ticks": "",
          "zeroline": false
         }
        },
        "scene2": {
         "aspectmode": "data",
         "domain": {
          "x": [
           0.55,
           1
          ],
          "y": [
           0,
           1
          ]
         }
        },
        "template": {
         "data": {
          "bar": [
           {
            "error_x": {
             "color": "#2a3f5f"
            },
            "error_y": {
             "color": "#2a3f5f"
            },
            "marker": {
             "line": {
              "color": "#E5ECF6",
              "width": 0.5
             },
             "pattern": {
              "fillmode": "overlay",
              "size": 10,
              "solidity": 0.2
             }
            },
            "type": "bar"
           }
          ],
          "barpolar": [
           {
            "marker": {
             "line": {
              "color": "#E5ECF6",
              "width": 0.5
             },
             "pattern": {
              "fillmode": "overlay",
              "size": 10,
              "solidity": 0.2
             }
            },
            "type": "barpolar"
           }
          ],
          "carpet": [
           {
            "aaxis": {
             "endlinecolor": "#2a3f5f",
             "gridcolor": "white",
             "linecolor": "white",
             "minorgridcolor": "white",
             "startlinecolor": "#2a3f5f"
            },
            "baxis": {
             "endlinecolor": "#2a3f5f",
             "gridcolor": "white",
             "linecolor": "white",
             "minorgridcolor": "white",
             "startlinecolor": "#2a3f5f"
            },
            "type": "carpet"
           }
          ],
          "choropleth": [
           {
            "colorbar": {
             "outlinewidth": 0,
             "ticks": ""
            },
            "type": "choropleth"
           }
          ],
          "contour": [
           {
            "colorbar": {
             "outlinewidth": 0,
             "ticks": ""
            },
            "colorscale": [
             [
              0,
              "#0d0887"
             ],
             [
              0.1111111111111111,
              "#46039f"
             ],
             [
              0.2222222222222222,
              "#7201a8"
             ],
             [
              0.3333333333333333,
              "#9c179e"
             ],
             [
              0.4444444444444444,
              "#bd3786"
             ],
             [
              0.5555555555555556,
              "#d8576b"
             ],
             [
              0.6666666666666666,
              "#ed7953"
             ],
             [
              0.7777777777777778,
              "#fb9f3a"
             ],
             [
              0.8888888888888888,
              "#fdca26"
             ],
             [
              1,
              "#f0f921"
             ]
            ],
            "type": "contour"
           }
          ],
          "contourcarpet": [
           {
            "colorbar": {
             "outlinewidth": 0,
             "ticks": ""
            },
            "type": "contourcarpet"
           }
          ],
          "heatmap": [
           {
            "colorbar": {
             "outlinewidth": 0,
             "ticks": ""
            },
            "colorscale": [
             [
              0,
              "#0d0887"
             ],
             [
              0.1111111111111111,
              "#46039f"
             ],
             [
              0.2222222222222222,
              "#7201a8"
             ],
             [
              0.3333333333333333,
              "#9c179e"
             ],
             [
              0.4444444444444444,
              "#bd3786"
             ],
             [
              0.5555555555555556,
              "#d8576b"
             ],
             [
              0.6666666666666666,
              "#ed7953"
             ],
             [
              0.7777777777777778,
              "#fb9f3a"
             ],
             [
              0.8888888888888888,
              "#fdca26"
             ],
             [
              1,
              "#f0f921"
             ]
            ],
            "type": "heatmap"
           }
          ],
          "heatmapgl": [
           {
            "colorbar": {
             "outlinewidth": 0,
             "ticks": ""
            },
            "colorscale": [
             [
              0,
              "#0d0887"
             ],
             [
              0.1111111111111111,
              "#46039f"
             ],
             [
              0.2222222222222222,
              "#7201a8"
             ],
             [
              0.3333333333333333,
              "#9c179e"
             ],
             [
              0.4444444444444444,
              "#bd3786"
             ],
             [
              0.5555555555555556,
              "#d8576b"
             ],
             [
              0.6666666666666666,
              "#ed7953"
             ],
             [
              0.7777777777777778,
              "#fb9f3a"
             ],
             [
              0.8888888888888888,
              "#fdca26"
             ],
             [
              1,
              "#f0f921"
             ]
            ],
            "type": "heatmapgl"
           }
          ],
          "histogram": [
           {
            "marker": {
             "pattern": {
              "fillmode": "overlay",
              "size": 10,
              "solidity": 0.2
             }
            },
            "type": "histogram"
           }
          ],
          "histogram2d": [
           {
            "colorbar": {
             "outlinewidth": 0,
             "ticks": ""
            },
            "colorscale": [
             [
              0,
              "#0d0887"
             ],
             [
              0.1111111111111111,
              "#46039f"
             ],
             [
              0.2222222222222222,
              "#7201a8"
             ],
             [
              0.3333333333333333,
              "#9c179e"
             ],
             [
              0.4444444444444444,
              "#bd3786"
             ],
             [
              0.5555555555555556,
              "#d8576b"
             ],
             [
              0.6666666666666666,
              "#ed7953"
             ],
             [
              0.7777777777777778,
              "#fb9f3a"
             ],
             [
              0.8888888888888888,
              "#fdca26"
             ],
             [
              1,
              "#f0f921"
             ]
            ],
            "type": "histogram2d"
           }
          ],
          "histogram2dcontour": [
           {
            "colorbar": {
             "outlinewidth": 0,
             "ticks": ""
            },
            "colorscale": [
             [
              0,
              "#0d0887"
             ],
             [
              0.1111111111111111,
              "#46039f"
             ],
             [
              0.2222222222222222,
              "#7201a8"
             ],
             [
              0.3333333333333333,
              "#9c179e"
             ],
             [
              0.4444444444444444,
              "#bd3786"
             ],
             [
              0.5555555555555556,
              "#d8576b"
             ],
             [
              0.6666666666666666,
              "#ed7953"
             ],
             [
              0.7777777777777778,
              "#fb9f3a"
             ],
             [
              0.8888888888888888,
              "#fdca26"
             ],
             [
              1,
              "#f0f921"
             ]
            ],
            "type": "histogram2dcontour"
           }
          ],
          "mesh3d": [
           {
            "colorbar": {
             "outlinewidth": 0,
             "ticks": ""
            },
            "type": "mesh3d"
           }
          ],
          "parcoords": [
           {
            "line": {
             "colorbar": {
              "outlinewidth": 0,
              "ticks": ""
             }
            },
            "type": "parcoords"
           }
          ],
          "pie": [
           {
            "automargin": true,
            "type": "pie"
           }
          ],
          "scatter": [
           {
            "fillpattern": {
             "fillmode": "overlay",
             "size": 10,
             "solidity": 0.2
            },
            "type": "scatter"
           }
          ],
          "scatter3d": [
           {
            "line": {
             "colorbar": {
              "outlinewidth": 0,
              "ticks": ""
             }
            },
            "marker": {
             "colorbar": {
              "outlinewidth": 0,
              "ticks": ""
             }
            },
            "type": "scatter3d"
           }
          ],
          "scattercarpet": [
           {
            "marker": {
             "colorbar": {
              "outlinewidth": 0,
              "ticks": ""
             }
            },
            "type": "scattercarpet"
           }
          ],
          "scattergeo": [
           {
            "marker": {
             "colorbar": {
              "outlinewidth": 0,
              "ticks": ""
             }
            },
            "type": "scattergeo"
           }
          ],
          "scattergl": [
           {
            "marker": {
             "colorbar": {
              "outlinewidth": 0,
              "ticks": ""
             }
            },
            "type": "scattergl"
           }
          ],
          "scattermapbox": [
           {
            "marker": {
             "colorbar": {
              "outlinewidth": 0,
              "ticks": ""
             }
            },
            "type": "scattermapbox"
           }
          ],
          "scatterpolar": [
           {
            "marker": {
             "colorbar": {
              "outlinewidth": 0,
              "ticks": ""
             }
            },
            "type": "scatterpolar"
           }
          ],
          "scatterpolargl": [
           {
            "marker": {
             "colorbar": {
              "outlinewidth": 0,
              "ticks": ""
             }
            },
            "type": "scatterpolargl"
           }
          ],
          "scatterternary": [
           {
            "marker": {
             "colorbar": {
              "outlinewidth": 0,
              "ticks": ""
             }
            },
            "type": "scatterternary"
           }
          ],
          "surface": [
           {
            "colorbar": {
             "outlinewidth": 0,
             "ticks": ""
            },
            "colorscale": [
             [
              0,
              "#0d0887"
             ],
             [
              0.1111111111111111,
              "#46039f"
             ],
             [
              0.2222222222222222,
              "#7201a8"
             ],
             [
              0.3333333333333333,
              "#9c179e"
             ],
             [
              0.4444444444444444,
              "#bd3786"
             ],
             [
              0.5555555555555556,
              "#d8576b"
             ],
             [
              0.6666666666666666,
              "#ed7953"
             ],
             [
              0.7777777777777778,
              "#fb9f3a"
             ],
             [
              0.8888888888888888,
              "#fdca26"
             ],
             [
              1,
              "#f0f921"
             ]
            ],
            "type": "surface"
           }
          ],
          "table": [
           {
            "cells": {
             "fill": {
              "color": "#EBF0F8"
             },
             "line": {
              "color": "white"
             }
            },
            "header": {
             "fill": {
              "color": "#C8D4E3"
             },
             "line": {
              "color": "white"
             }
            },
            "type": "table"
           }
          ]
         },
         "layout": {
          "annotationdefaults": {
           "arrowcolor": "#2a3f5f",
           "arrowhead": 0,
           "arrowwidth": 1
          },
          "autotypenumbers": "strict",
          "coloraxis": {
           "colorbar": {
            "outlinewidth": 0,
            "ticks": ""
           }
          },
          "colorscale": {
           "diverging": [
            [
             0,
             "#8e0152"
            ],
            [
             0.1,
             "#c51b7d"
            ],
            [
             0.2,
             "#de77ae"
            ],
            [
             0.3,
             "#f1b6da"
            ],
            [
             0.4,
             "#fde0ef"
            ],
            [
             0.5,
             "#f7f7f7"
            ],
            [
             0.6,
             "#e6f5d0"
            ],
            [
             0.7,
             "#b8e186"
            ],
            [
             0.8,
             "#7fbc41"
            ],
            [
             0.9,
             "#4d9221"
            ],
            [
             1,
             "#276419"
            ]
           ],
           "sequential": [
            [
             0,
             "#0d0887"
            ],
            [
             0.1111111111111111,
             "#46039f"
            ],
            [
             0.2222222222222222,
             "#7201a8"
            ],
            [
             0.3333333333333333,
             "#9c179e"
            ],
            [
             0.4444444444444444,
             "#bd3786"
            ],
            [
             0.5555555555555556,
             "#d8576b"
            ],
            [
             0.6666666666666666,
             "#ed7953"
            ],
            [
             0.7777777777777778,
             "#fb9f3a"
            ],
            [
             0.8888888888888888,
             "#fdca26"
            ],
            [
             1,
             "#f0f921"
            ]
           ],
           "sequentialminus": [
            [
             0,
             "#0d0887"
            ],
            [
             0.1111111111111111,
             "#46039f"
            ],
            [
             0.2222222222222222,
             "#7201a8"
            ],
            [
             0.3333333333333333,
             "#9c179e"
            ],
            [
             0.4444444444444444,
             "#bd3786"
            ],
            [
             0.5555555555555556,
             "#d8576b"
            ],
            [
             0.6666666666666666,
             "#ed7953"
            ],
            [
             0.7777777777777778,
             "#fb9f3a"
            ],
            [
             0.8888888888888888,
             "#fdca26"
            ],
            [
             1,
             "#f0f921"
            ]
           ]
          },
          "colorway": [
           "#636efa",
           "#EF553B",
           "#00cc96",
           "#ab63fa",
           "#FFA15A",
           "#19d3f3",
           "#FF6692",
           "#B6E880",
           "#FF97FF",
           "#FECB52"
          ],
          "font": {
           "color": "#2a3f5f"
          },
          "geo": {
           "bgcolor": "white",
           "lakecolor": "white",
           "landcolor": "#E5ECF6",
           "showlakes": true,
           "showland": true,
           "subunitcolor": "white"
          },
          "hoverlabel": {
           "align": "left"
          },
          "hovermode": "closest",
          "mapbox": {
           "style": "light"
          },
          "paper_bgcolor": "white",
          "plot_bgcolor": "#E5ECF6",
          "polar": {
           "angularaxis": {
            "gridcolor": "white",
            "linecolor": "white",
            "ticks": ""
           },
           "bgcolor": "#E5ECF6",
           "radialaxis": {
            "gridcolor": "white",
            "linecolor": "white",
            "ticks": ""
           }
          },
          "scene": {
           "xaxis": {
            "backgroundcolor": "#E5ECF6",
            "gridcolor": "white",
            "gridwidth": 2,
            "linecolor": "white",
            "showbackground": true,
            "ticks": "",
            "zerolinecolor": "white"
           },
           "yaxis": {
            "backgroundcolor": "#E5ECF6",
            "gridcolor": "white",
            "gridwidth": 2,
            "linecolor": "white",
            "showbackground": true,
            "ticks": "",
            "zerolinecolor": "white"
           },
           "zaxis": {
            "backgroundcolor": "#E5ECF6",
            "gridcolor": "white",
            "gridwidth": 2,
            "linecolor": "white",
            "showbackground": true,
            "ticks": "",
            "zerolinecolor": "white"
           }
          },
          "shapedefaults": {
           "line": {
            "color": "#2a3f5f"
           }
          },
          "ternary": {
           "aaxis": {
            "gridcolor": "white",
            "linecolor": "white",
            "ticks": ""
           },
           "baxis": {
            "gridcolor": "white",
            "linecolor": "white",
            "ticks": ""
           },
           "bgcolor": "#E5ECF6",
           "caxis": {
            "gridcolor": "white",
            "linecolor": "white",
            "ticks": ""
           }
          },
          "title": {
           "x": 0.05
          },
          "xaxis": {
           "automargin": true,
           "gridcolor": "white",
           "linecolor": "white",
           "ticks": "",
           "title": {
            "standoff": 15
           },
           "zerolinecolor": "white",
           "zerolinewidth": 2
          },
          "yaxis": {
           "automargin": true,
           "gridcolor": "white",
           "linecolor": "white",
           "ticks": "",
           "title": {
            "standoff": 15
           },
           "zerolinecolor": "white",
           "zerolinewidth": 2
          }
         }
        }
       }
      },
      "text/html": [
       "<div>                            <div id=\"06fad7c8-0b47-4bcb-a1f9-31758acc09ed\" class=\"plotly-graph-div\" style=\"height:525px; width:100%;\"></div>            <script type=\"text/javascript\">                require([\"plotly\"], function(Plotly) {                    window.PLOTLYENV=window.PLOTLYENV || {};                                    if (document.getElementById(\"06fad7c8-0b47-4bcb-a1f9-31758acc09ed\")) {                    Plotly.newPlot(                        \"06fad7c8-0b47-4bcb-a1f9-31758acc09ed\",                        [{\"marker\":{\"size\":1},\"name\":\"0\",\"x\":[-0.9899494051933289,-0.9192387461662292,-0.9192387461662292,-0.9192387461662292,-0.8485280871391296,-0.8485280871391296,-0.9899494051933289,-0.9899494051933289,-1.0606601238250732,-0.8485280871391296,-0.8485280871391296,-1.0606601238250732,-0.9899494051933289,-1.0606601238250732,-0.8485280871391296],\"y\":[-0.35931193828582764,-0.39466726779937744,-0.3730166256427765,-0.39466726779937744,-0.43002259731292725,-0.5599263906478882,-0.4892157316207886,-0.35931193828582764,-0.5303298234939575,-0.43002259731292725,-0.5599263906478882,-0.5303298234939575,-0.4892157316207886,-0.5303298234939575,-0.4242638349533081],\"z\":[-0.7723468542098999,-0.8335841298103333,-0.8460841178894043,-0.8335841298103333,-0.8948213458061218,-0.8198213577270508,-0.6973468661308289,-0.7723468542098999,-0.9185585975646973,-0.8948213458061218,-0.8198213577270508,-0.9185585975646973,-0.6973468661308289,-0.9185585975646973,-0.7348468899726868],\"type\":\"scatter3d\",\"scene\":\"scene\",\"line\":{\"color\":\"#ff0000\"}},{\"marker\":{\"size\":1},\"name\":\"1\",\"x\":[0.10000000149011612,-7.960202556570121e-17,-7.960202556570121e-17,-7.960202556570121e-17,-0.10000000149011612,-0.10000000149011612,0.10000000149011612,0.10000000149011612,-9.184849409155289e-17,-0.10000000149011612,-0.10000000149011612,-9.184849409155289e-17,0.10000000149011612,-9.184849409155289e-17,-7.347879130277537e-17],\"y\":[0.07499998807907104,0.07499998807907104,0.09999997913837433,0.07499998807907104,0.07499998807907104,-0.07500000298023224,-0.07500000298023224,0.07499998807907104,-3.552713678800501e-15,0.07499998807907104,-0.07500000298023224,-3.552713678800501e-15,-0.07500000298023224,-3.552713678800501e-15,-1.0268565553417375e-08],\"z\":[1.2999998331069946,1.2999998331069946,1.2999998331069946,1.2999998331069946,1.2999998331069946,1.2999998331069946,1.2999998331069946,1.2999998331069946,1.499999761581421,1.2999998331069946,1.2999998331069946,1.499999761581421,1.2999998331069946,1.499999761581421,1.1999998092651367],\"type\":\"scatter3d\",\"scene\":\"scene\",\"line\":{\"color\":\"#08ff00\"}},{\"marker\":{\"size\":1},\"name\":\"2\",\"x\":[0.9899495840072632,0.9192388653755188,0.9192388653755188,0.9192388653755188,0.8485282063484192,0.8485282063484192,0.9899495840072632,0.9899495840072632,1.0606602430343628,0.8485282063484192,0.8485282063484192,1.0606602430343628,0.9899495840072632,1.0606602430343628,0.8485282063484192],\"y\":[0.07499999552965164,0.07499999552965164,0.10000000149011612,0.07499999552965164,0.07499999552965164,-0.07500002533197403,-0.07500002533197403,0.07499999552965164,-3.3335425086988835e-08,0.07499999552965164,-0.07500002533197403,-3.3335425086988835e-08,-0.07500002533197403,-3.3335425086988835e-08,-1.0572573927447593e-08],\"z\":[0.8485282063484192,0.9192388653755188,0.9192389249801636,0.9192388653755188,0.9899495840072632,0.9899495840072632,0.8485282063484192,0.8485282063484192,1.0606602430343628,0.9899495840072632,0.9899495840072632,1.0606602430343628,0.8485282063484192,1.0606602430343628,0.8485282063484192],\"type\":\"scatter3d\",\"scene\":\"scene\",\"line\":{\"color\":\"#0010ff\"}}],                        {\"template\":{\"data\":{\"histogram2dcontour\":[{\"type\":\"histogram2dcontour\",\"colorbar\":{\"outlinewidth\":0,\"ticks\":\"\"},\"colorscale\":[[0.0,\"#0d0887\"],[0.1111111111111111,\"#46039f\"],[0.2222222222222222,\"#7201a8\"],[0.3333333333333333,\"#9c179e\"],[0.4444444444444444,\"#bd3786\"],[0.5555555555555556,\"#d8576b\"],[0.6666666666666666,\"#ed7953\"],[0.7777777777777778,\"#fb9f3a\"],[0.8888888888888888,\"#fdca26\"],[1.0,\"#f0f921\"]]}],\"choropleth\":[{\"type\":\"choropleth\",\"colorbar\":{\"outlinewidth\":0,\"ticks\":\"\"}}],\"histogram2d\":[{\"type\":\"histogram2d\",\"colorbar\":{\"outlinewidth\":0,\"ticks\":\"\"},\"colorscale\":[[0.0,\"#0d0887\"],[0.1111111111111111,\"#46039f\"],[0.2222222222222222,\"#7201a8\"],[0.3333333333333333,\"#9c179e\"],[0.4444444444444444,\"#bd3786\"],[0.5555555555555556,\"#d8576b\"],[0.6666666666666666,\"#ed7953\"],[0.7777777777777778,\"#fb9f3a\"],[0.8888888888888888,\"#fdca26\"],[1.0,\"#f0f921\"]]}],\"heatmap\":[{\"type\":\"heatmap\",\"colorbar\":{\"outlinewidth\":0,\"ticks\":\"\"},\"colorscale\":[[0.0,\"#0d0887\"],[0.1111111111111111,\"#46039f\"],[0.2222222222222222,\"#7201a8\"],[0.3333333333333333,\"#9c179e\"],[0.4444444444444444,\"#bd3786\"],[0.5555555555555556,\"#d8576b\"],[0.6666666666666666,\"#ed7953\"],[0.7777777777777778,\"#fb9f3a\"],[0.8888888888888888,\"#fdca26\"],[1.0,\"#f0f921\"]]}],\"heatmapgl\":[{\"type\":\"heatmapgl\",\"colorbar\":{\"outlinewidth\":0,\"ticks\":\"\"},\"colorscale\":[[0.0,\"#0d0887\"],[0.1111111111111111,\"#46039f\"],[0.2222222222222222,\"#7201a8\"],[0.3333333333333333,\"#9c179e\"],[0.4444444444444444,\"#bd3786\"],[0.5555555555555556,\"#d8576b\"],[0.6666666666666666,\"#ed7953\"],[0.7777777777777778,\"#fb9f3a\"],[0.8888888888888888,\"#fdca26\"],[1.0,\"#f0f921\"]]}],\"contourcarpet\":[{\"type\":\"contourcarpet\",\"colorbar\":{\"outlinewidth\":0,\"ticks\":\"\"}}],\"contour\":[{\"type\":\"contour\",\"colorbar\":{\"outlinewidth\":0,\"ticks\":\"\"},\"colorscale\":[[0.0,\"#0d0887\"],[0.1111111111111111,\"#46039f\"],[0.2222222222222222,\"#7201a8\"],[0.3333333333333333,\"#9c179e\"],[0.4444444444444444,\"#bd3786\"],[0.5555555555555556,\"#d8576b\"],[0.6666666666666666,\"#ed7953\"],[0.7777777777777778,\"#fb9f3a\"],[0.8888888888888888,\"#fdca26\"],[1.0,\"#f0f921\"]]}],\"surface\":[{\"type\":\"surface\",\"colorbar\":{\"outlinewidth\":0,\"ticks\":\"\"},\"colorscale\":[[0.0,\"#0d0887\"],[0.1111111111111111,\"#46039f\"],[0.2222222222222222,\"#7201a8\"],[0.3333333333333333,\"#9c179e\"],[0.4444444444444444,\"#bd3786\"],[0.5555555555555556,\"#d8576b\"],[0.6666666666666666,\"#ed7953\"],[0.7777777777777778,\"#fb9f3a\"],[0.8888888888888888,\"#fdca26\"],[1.0,\"#f0f921\"]]}],\"mesh3d\":[{\"type\":\"mesh3d\",\"colorbar\":{\"outlinewidth\":0,\"ticks\":\"\"}}],\"scatter\":[{\"fillpattern\":{\"fillmode\":\"overlay\",\"size\":10,\"solidity\":0.2},\"type\":\"scatter\"}],\"parcoords\":[{\"type\":\"parcoords\",\"line\":{\"colorbar\":{\"outlinewidth\":0,\"ticks\":\"\"}}}],\"scatterpolargl\":[{\"type\":\"scatterpolargl\",\"marker\":{\"colorbar\":{\"outlinewidth\":0,\"ticks\":\"\"}}}],\"bar\":[{\"error_x\":{\"color\":\"#2a3f5f\"},\"error_y\":{\"color\":\"#2a3f5f\"},\"marker\":{\"line\":{\"color\":\"#E5ECF6\",\"width\":0.5},\"pattern\":{\"fillmode\":\"overlay\",\"size\":10,\"solidity\":0.2}},\"type\":\"bar\"}],\"scattergeo\":[{\"type\":\"scattergeo\",\"marker\":{\"colorbar\":{\"outlinewidth\":0,\"ticks\":\"\"}}}],\"scatterpolar\":[{\"type\":\"scatterpolar\",\"marker\":{\"colorbar\":{\"outlinewidth\":0,\"ticks\":\"\"}}}],\"histogram\":[{\"marker\":{\"pattern\":{\"fillmode\":\"overlay\",\"size\":10,\"solidity\":0.2}},\"type\":\"histogram\"}],\"scattergl\":[{\"type\":\"scattergl\",\"marker\":{\"colorbar\":{\"outlinewidth\":0,\"ticks\":\"\"}}}],\"scatter3d\":[{\"type\":\"scatter3d\",\"line\":{\"colorbar\":{\"outlinewidth\":0,\"ticks\":\"\"}},\"marker\":{\"colorbar\":{\"outlinewidth\":0,\"ticks\":\"\"}}}],\"scattermapbox\":[{\"type\":\"scattermapbox\",\"marker\":{\"colorbar\":{\"outlinewidth\":0,\"ticks\":\"\"}}}],\"scatterternary\":[{\"type\":\"scatterternary\",\"marker\":{\"colorbar\":{\"outlinewidth\":0,\"ticks\":\"\"}}}],\"scattercarpet\":[{\"type\":\"scattercarpet\",\"marker\":{\"colorbar\":{\"outlinewidth\":0,\"ticks\":\"\"}}}],\"carpet\":[{\"aaxis\":{\"endlinecolor\":\"#2a3f5f\",\"gridcolor\":\"white\",\"linecolor\":\"white\",\"minorgridcolor\":\"white\",\"startlinecolor\":\"#2a3f5f\"},\"baxis\":{\"endlinecolor\":\"#2a3f5f\",\"gridcolor\":\"white\",\"linecolor\":\"white\",\"minorgridcolor\":\"white\",\"startlinecolor\":\"#2a3f5f\"},\"type\":\"carpet\"}],\"table\":[{\"cells\":{\"fill\":{\"color\":\"#EBF0F8\"},\"line\":{\"color\":\"white\"}},\"header\":{\"fill\":{\"color\":\"#C8D4E3\"},\"line\":{\"color\":\"white\"}},\"type\":\"table\"}],\"barpolar\":[{\"marker\":{\"line\":{\"color\":\"#E5ECF6\",\"width\":0.5},\"pattern\":{\"fillmode\":\"overlay\",\"size\":10,\"solidity\":0.2}},\"type\":\"barpolar\"}],\"pie\":[{\"automargin\":true,\"type\":\"pie\"}]},\"layout\":{\"autotypenumbers\":\"strict\",\"colorway\":[\"#636efa\",\"#EF553B\",\"#00cc96\",\"#ab63fa\",\"#FFA15A\",\"#19d3f3\",\"#FF6692\",\"#B6E880\",\"#FF97FF\",\"#FECB52\"],\"font\":{\"color\":\"#2a3f5f\"},\"hovermode\":\"closest\",\"hoverlabel\":{\"align\":\"left\"},\"paper_bgcolor\":\"white\",\"plot_bgcolor\":\"#E5ECF6\",\"polar\":{\"bgcolor\":\"#E5ECF6\",\"angularaxis\":{\"gridcolor\":\"white\",\"linecolor\":\"white\",\"ticks\":\"\"},\"radialaxis\":{\"gridcolor\":\"white\",\"linecolor\":\"white\",\"ticks\":\"\"}},\"ternary\":{\"bgcolor\":\"#E5ECF6\",\"aaxis\":{\"gridcolor\":\"white\",\"linecolor\":\"white\",\"ticks\":\"\"},\"baxis\":{\"gridcolor\":\"white\",\"linecolor\":\"white\",\"ticks\":\"\"},\"caxis\":{\"gridcolor\":\"white\",\"linecolor\":\"white\",\"ticks\":\"\"}},\"coloraxis\":{\"colorbar\":{\"outlinewidth\":0,\"ticks\":\"\"}},\"colorscale\":{\"sequential\":[[0.0,\"#0d0887\"],[0.1111111111111111,\"#46039f\"],[0.2222222222222222,\"#7201a8\"],[0.3333333333333333,\"#9c179e\"],[0.4444444444444444,\"#bd3786\"],[0.5555555555555556,\"#d8576b\"],[0.6666666666666666,\"#ed7953\"],[0.7777777777777778,\"#fb9f3a\"],[0.8888888888888888,\"#fdca26\"],[1.0,\"#f0f921\"]],\"sequentialminus\":[[0.0,\"#0d0887\"],[0.1111111111111111,\"#46039f\"],[0.2222222222222222,\"#7201a8\"],[0.3333333333333333,\"#9c179e\"],[0.4444444444444444,\"#bd3786\"],[0.5555555555555556,\"#d8576b\"],[0.6666666666666666,\"#ed7953\"],[0.7777777777777778,\"#fb9f3a\"],[0.8888888888888888,\"#fdca26\"],[1.0,\"#f0f921\"]],\"diverging\":[[0,\"#8e0152\"],[0.1,\"#c51b7d\"],[0.2,\"#de77ae\"],[0.3,\"#f1b6da\"],[0.4,\"#fde0ef\"],[0.5,\"#f7f7f7\"],[0.6,\"#e6f5d0\"],[0.7,\"#b8e186\"],[0.8,\"#7fbc41\"],[0.9,\"#4d9221\"],[1,\"#276419\"]]},\"xaxis\":{\"gridcolor\":\"white\",\"linecolor\":\"white\",\"ticks\":\"\",\"title\":{\"standoff\":15},\"zerolinecolor\":\"white\",\"automargin\":true,\"zerolinewidth\":2},\"yaxis\":{\"gridcolor\":\"white\",\"linecolor\":\"white\",\"ticks\":\"\",\"title\":{\"standoff\":15},\"zerolinecolor\":\"white\",\"automargin\":true,\"zerolinewidth\":2},\"scene\":{\"xaxis\":{\"backgroundcolor\":\"#E5ECF6\",\"gridcolor\":\"white\",\"linecolor\":\"white\",\"showbackground\":true,\"ticks\":\"\",\"zerolinecolor\":\"white\",\"gridwidth\":2},\"yaxis\":{\"backgroundcolor\":\"#E5ECF6\",\"gridcolor\":\"white\",\"linecolor\":\"white\",\"showbackground\":true,\"ticks\":\"\",\"zerolinecolor\":\"white\",\"gridwidth\":2},\"zaxis\":{\"backgroundcolor\":\"#E5ECF6\",\"gridcolor\":\"white\",\"linecolor\":\"white\",\"showbackground\":true,\"ticks\":\"\",\"zerolinecolor\":\"white\",\"gridwidth\":2}},\"shapedefaults\":{\"line\":{\"color\":\"#2a3f5f\"}},\"annotationdefaults\":{\"arrowcolor\":\"#2a3f5f\",\"arrowhead\":0,\"arrowwidth\":1},\"geo\":{\"bgcolor\":\"white\",\"landcolor\":\"#E5ECF6\",\"subunitcolor\":\"white\",\"showland\":true,\"showlakes\":true,\"lakecolor\":\"white\"},\"title\":{\"x\":0.05},\"mapbox\":{\"style\":\"light\"}}},\"scene\":{\"domain\":{\"x\":[0.0,0.45],\"y\":[0.0,1.0]},\"xaxis\":{\"range\":[-1.1640206575393677,1.154941201210022],\"showgrid\":false,\"zeroline\":false,\"showline\":false,\"ticks\":\"\",\"showticklabels\":false,\"backgroundcolor\":\"#fff\",\"showaxeslabels\":false},\"yaxis\":{\"range\":[-0.6781822443008423,0.3166666030883789],\"showgrid\":false,\"zeroline\":false,\"showline\":false,\"ticks\":\"\",\"showticklabels\":false,\"backgroundcolor\":\"#fff\",\"showaxeslabels\":false},\"zaxis\":{\"range\":[-1.0460416078567505,1.6333330869674683],\"showgrid\":false,\"zeroline\":false,\"showline\":false,\"ticks\":\"\",\"showticklabels\":false,\"backgroundcolor\":\"#fff\",\"showaxeslabels\":false},\"camera\":{\"up\":{\"x\":0.0,\"y\":1.0,\"z\":0.0}},\"aspectmode\":\"data\"},\"scene2\":{\"domain\":{\"x\":[0.55,1.0],\"y\":[0.0,1.0]},\"aspectmode\":\"data\"},\"annotations\":[{\"font\":{\"size\":16},\"showarrow\":false,\"text\":\"Ground Truth Cameras\",\"x\":0.225,\"xanchor\":\"center\",\"xref\":\"paper\",\"y\":1.0,\"yanchor\":\"bottom\",\"yref\":\"paper\"}]},                        {\"responsive\": true}                    ).then(function(){\n",
       "                            \n",
       "var gd = document.getElementById('06fad7c8-0b47-4bcb-a1f9-31758acc09ed');\n",
       "var x = new MutationObserver(function (mutations, observer) {{\n",
       "        var display = window.getComputedStyle(gd).display;\n",
       "        if (!display || display === 'none') {{\n",
       "            console.log([gd, 'removed!']);\n",
       "            Plotly.purge(gd);\n",
       "            observer.disconnect();\n",
       "        }}\n",
       "}});\n",
       "\n",
       "// Listen for the removal of the full notebook cells\n",
       "var notebookContainer = gd.closest('#notebook-container');\n",
       "if (notebookContainer) {{\n",
       "    x.observe(notebookContainer, {childList: true});\n",
       "}}\n",
       "\n",
       "// Listen for the clearing of the current output cell\n",
       "var outputEl = gd.closest('.output');\n",
       "if (outputEl) {{\n",
       "    x.observe(outputEl, {childList: true});\n",
       "}}\n",
       "\n",
       "                        })                };                });            </script>        </div>"
      ]
     },
     "metadata": {},
     "output_type": "display_data"
    },
    {
     "data": {
      "image/png": "[encoded data removed]",
      "text/plain": [
       "<Figure size 800x400 with 8 Axes>"
      ]
     },
     "metadata": {},
     "output_type": "display_data"
    },
    {
     "ename": "",
     "evalue": "",
     "output_type": "error",
     "traceback": [
      "\u001b[1;31mThe Kernel crashed while executing code in the the current cell or a previous cell. Please review the code in the cell(s) to identify a possible cause of the failure. Click <a href='https://aka.ms/vscodeJupyterKernelCrash'>here</a> for more info. View Jupyter <a href='command:jupyter.viewOutput'>log</a> for further details."
     ]
    }
   ],
   "source": [
    "R_final_ok = []\n",
    "T_final_ok = []\n",
    "R_final_pred = []\n",
    "T_final_pred = []\n",
    "for i in range(len(R_final)):\n",
    "    R_final_i = R_final[i].T\n",
    "    T_pred_i = T_pred[i].cpu()\n",
    "    pose_i = torch.cat([R_final_i, T_pred_i[...,None]], dim=-1).cpu()\n",
    "    R_final_pred.append(pose_i[:3, :3])\n",
    "    T_final_pred.append(pose_i[:3, 3])\n",
    "    pose_i = torch.from_numpy(blender2torch3d_objaverse(pose_i.numpy()))\n",
    "    R_final_ok.append(pose_i[:3, :3])\n",
    "    T_final_ok.append(pose_i[:3, 3])\n",
    "    \n",
    "R_final_ok = torch.stack(R_final_ok)\n",
    "T_final_ok = torch.stack(T_final_ok)\n",
    "R_final_pred = torch.stack(R_final_pred)\n",
    "T_final_pred = torch.stack(T_final_pred)\n",
    "plotly_scene_visualization(R_final_ok, T_final_ok, \"Final Refined Cameras\", 0.1)\n",
    "\n",
    "R_final_gt = []\n",
    "T_gt = []\n",
    "for i in range(3):\n",
    "    pose = np.load(f'{POSE_DIR}/{i:03d}.npy')\n",
    "    pose = blender2torch3d_objaverse(pose)\n",
    "\n",
    "    R_final_gt.append(pose[:3,:3])\n",
    "    T_gt.append(torch.tensor(pose[:3,-1]))\n",
    "\n",
    "R_final_gt = np.stack(R_final_gt)\n",
    "T_gt = torch.stack(T_gt)\n",
    "plotly_scene_visualization(R_final_gt, T_gt, \"Ground Truth Cameras\", 0.1)\n",
    "\n",
    "# Visualize cropped and resized images\n",
    "view_color_coded_images_from_tensor(images)"
   ]
  },
  {
   "cell_type": "code",
   "execution_count": 40,
   "metadata": {},
   "outputs": [],
   "source": [
    "RT_final_pred = torch.cat(\n",
    "    [\n",
    "        R_final_ok,\n",
    "        T_final_ok[..., None],\n",
    "    ], \n",
    "    dim=-1,\n",
    ").numpy()\n",
    "\n",
    "R_final_gt = []\n",
    "T_final_gt = []\n",
    "\n",
    "for i in range(len(R_final)):\n",
    "    pose = np.load(f'{POSE_DIR}/{i:03d}.npy')\n",
    "    R_final_gt.append(pose[:3, :3])\n",
    "    T_final_gt.append(torch.tensor(pose[:3, 3]))\n",
    "\n",
    "R_final_gt = torch.from_numpy(np.stack(R_final_gt))\n",
    "T_final_gt = torch.stack(T_final_gt)\n",
    "RT_final_gt = torch.cat(\n",
    "    [\n",
    "        R_final_gt,\n",
    "        T_final_gt[..., None],\n",
    "    ], \n",
    "    dim=-1,\n",
    ").numpy()"
   ]
  },
  {
   "cell_type": "code",
   "execution_count": 41,
   "metadata": {},
   "outputs": [
    {
     "name": "stdout",
     "output_type": "stream",
     "text": [
      "[0.33333332531716353, 0.5000000000000002, 0.5000000070739952]\n",
      "[0.0, 0.6250000025828883, 0.5000000089071377]\n",
      "[-1.9728031272084734e-08, -2.9802321118869e-07, 1.4395592495830556e-07]\n",
      "[0.27375992413123534, 0.7257987953799209, 0.5006712934366495]\n",
      "[0.0, 0.11710482217886668, 0.05882247016810725]\n",
      "[-0.0003469326934751089, 0.0010597320338494906, 0.0010699936714393082]\n"
     ]
    }
   ],
   "source": [
    "def get_T(RT_mtx):\n",
    "    R, T = RT_mtx[:3, :3], RT_mtx[:, -1]\n",
    "    RT_mtx_w2c = -R.T @ T\n",
    "    elevation, azimuth, z = cartesian_to_spherical(RT_mtx_w2c[None, :])\n",
    "    return elevation, azimuth, z\n",
    "\n",
    "view_num = 3\n",
    "poses = []\n",
    "for i in range(view_num):\n",
    "    poses.append(\n",
    "        get_T(RT_final_gt[i])\n",
    "    )\n",
    "poses = np.stack(poses)[..., 0]\n",
    "\n",
    "elevations = []\n",
    "azimuths = []\n",
    "radius = []\n",
    "for i in range(view_num):\n",
    "    elevations.append(\n",
    "        poses[i][0].item() / np.pi,\n",
    "    )\n",
    "    azimuths.append(\n",
    "        0.5 * ((poses[i][1].item() - poses[0][1].item()) % (2 * np.pi)) / np.pi\n",
    "    )\n",
    "    radius.append(\n",
    "        (poses[i][2].item() - 1.5)/ 0.7,\n",
    "    )\n",
    "\n",
    "print(elevations)\n",
    "print(azimuths)\n",
    "print(radius)\n",
    "\n",
    "view_num = 3\n",
    "poses = []\n",
    "for i in range(view_num):\n",
    "    poses.append(\n",
    "        get_T(RT_final_pred[i])\n",
    "    )\n",
    "poses = np.stack(poses)[..., 0]\n",
    "\n",
    "elevations = []\n",
    "azimuths = []\n",
    "radius = []\n",
    "for i in range(view_num):\n",
    "    elevations.append(\n",
    "        poses[i][0].item() / np.pi,\n",
    "    )\n",
    "    azimuths.append(\n",
    "        0.5 * ((poses[i][1].item() - poses[0][1].item()) % (2 * np.pi)) / np.pi\n",
    "    )\n",
    "    radius.append(\n",
    "        (poses[i][2].item() - 1.5)/ 0.7,\n",
    "    )\n",
    "\n",
    "print(elevations)\n",
    "print(azimuths)\n",
    "print(radius)"
   ]
  },
  {
   "cell_type": "code",
   "execution_count": 44,
   "metadata": {},
   "outputs": [
    {
     "name": "stdout",
     "output_type": "stream",
     "text": [
      "(3, 3, 4)\n",
      "(3, 3, 4)\n",
      "[[ 4.14565140e-01 -4.11190105e-01  8.11824031e-01  1.75786670e-04]\n",
      " [-4.94058129e-01  6.47475852e-01  5.80242484e-01 -1.78389251e-04]\n",
      " [-7.64226488e-01 -6.41636770e-01  6.52691338e-02  1.49897242e+00]]\n",
      "\n",
      "[[-1.00000000e+00  4.51675359e-24  6.12323432e-17  5.08050483e-24]\n",
      " [-3.06161720e-17  8.66025390e-01 -5.00000095e-01  1.19209290e-07]\n",
      " [-5.30287587e-17 -5.00000095e-01 -8.66025390e-01  1.50000000e+00]]\n"
     ]
    }
   ],
   "source": [
    "# RT_final_ok = torch.cat(\n",
    "#     [\n",
    "#         R_final_ok,\n",
    "#         T_final_ok[..., None]\n",
    "#     ],\n",
    "#     dim=-1\n",
    "# ).numpy()\n",
    "# RT_final_gt = torch.cat(\n",
    "#     [\n",
    "#         torch.from_numpy(R_final_gt),\n",
    "#         T_gt[..., None]\n",
    "#     ],\n",
    "#     dim=-1\n",
    "# ).numpy()[:3]\n",
    "# print(RT_final_ok.shape)\n",
    "\n",
    "# print(RT_final_gt.shape)\n",
    "# # T_final_ok\n",
    "# # R_final_gt\n",
    "# # T_final_gt\n",
    "# print(RT_final_ok[0])\n",
    "# print()\n",
    "# print(RT_final_gt[0])"
   ]
  },
  {
   "cell_type": "code",
   "execution_count": 40,
   "metadata": {},
   "outputs": [
    {
     "name": "stdout",
     "output_type": "stream",
     "text": [
      "ground truth\n",
      "[-0.0833756] [-0.0833756]\n",
      "[0.2501268] [0.75038041]\n",
      "[1.53686115e-07] [1.53686115e-07]\n",
      "ours\n",
      "[0.16711056] [-0.16664322]\n",
      "[0.90276451] [0.09944085]\n",
      "[1.10343427e-05] [-0.00024556]\n"
     ]
    }
   ],
   "source": [
    "d_theta_1, d_azimuth_1, d_z_1 = get_T(RT_final_gt[0], RT_final_gt[1])\n",
    "d_theta_2, d_azimuth_2, d_z_2 = get_T(RT_final_gt[0], RT_final_gt[2])\n",
    "\n",
    "print('ground truth')\n",
    "print(d_theta_1/3.14, d_theta_2/3.14)\n",
    "print(d_azimuth_1/6.28, d_azimuth_2/6.28)\n",
    "print(d_z_1, d_z_2)\n",
    "\n",
    "d_theta_1, d_azimuth_1, d_z_1 = get_T(RT_final_ok[0], RT_final_ok[1])\n",
    "d_theta_2, d_azimuth_2, d_z_2 = get_T(RT_final_ok[0], RT_final_ok[2])\n",
    "print('ours')\n",
    "# d_theta_1 = d_theta_1 % np.pi\n",
    "print(d_theta_1/3.14, d_theta_2/3.14)\n",
    "print(d_azimuth_1/6.28, d_azimuth_2/6.28)\n",
    "print(d_z_1, d_z_2)"
   ]
  }
 ],
 "metadata": {
  "kernelspec": {
   "display_name": "relposepp",
   "language": "python",
   "name": "python3"
  },
  "language_info": {
   "codemirror_mode": {
    "name": "ipython",
    "version": 3
   },
   "file_extension": ".py",
   "mimetype": "text/x-python",
   "name": "python",
   "nbconvert_exporter": "python",
   "pygments_lexer": "ipython3",
   "version": "3.8.17"
  },
  "orig_nbformat": 4
 },
 "nbformat": 4,
 "nbformat_minor": 2
}
